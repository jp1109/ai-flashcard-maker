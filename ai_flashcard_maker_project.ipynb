{
 "cells": [
  {
   "cell_type": "code",
   "execution_count": null,
   "metadata": {
    "colab": {
     "base_uri": "https://localhost:8080/"
    },
    "id": "hBW-K786UVAB",
    "outputId": "6c4c9be9-1d29-4f43-d24e-2f8b799a8ccc"
   },
   "outputs": [
    {
     "name": "stdout",
     "output_type": "stream",
     "text": [
      "Requirement already satisfied: transformers in /usr/local/lib/python3.12/dist-packages (4.56.1)\n",
      "Requirement already satisfied: sentencepiece in /usr/local/lib/python3.12/dist-packages (0.2.1)\n",
      "Requirement already satisfied: filelock in /usr/local/lib/python3.12/dist-packages (from transformers) (3.19.1)\n",
      "Requirement already satisfied: huggingface-hub<1.0,>=0.34.0 in /usr/local/lib/python3.12/dist-packages (from transformers) (0.35.0)\n",
      "Requirement already satisfied: numpy>=1.17 in /usr/local/lib/python3.12/dist-packages (from transformers) (2.0.2)\n",
      "Requirement already satisfied: packaging>=20.0 in /usr/local/lib/python3.12/dist-packages (from transformers) (25.0)\n",
      "Requirement already satisfied: pyyaml>=5.1 in /usr/local/lib/python3.12/dist-packages (from transformers) (6.0.2)\n",
      "Requirement already satisfied: regex!=2019.12.17 in /usr/local/lib/python3.12/dist-packages (from transformers) (2024.11.6)\n",
      "Requirement already satisfied: requests in /usr/local/lib/python3.12/dist-packages (from transformers) (2.32.4)\n",
      "Requirement already satisfied: tokenizers<=0.23.0,>=0.22.0 in /usr/local/lib/python3.12/dist-packages (from transformers) (0.22.0)\n",
      "Requirement already satisfied: safetensors>=0.4.3 in /usr/local/lib/python3.12/dist-packages (from transformers) (0.6.2)\n",
      "Requirement already satisfied: tqdm>=4.27 in /usr/local/lib/python3.12/dist-packages (from transformers) (4.67.1)\n",
      "Requirement already satisfied: fsspec>=2023.5.0 in /usr/local/lib/python3.12/dist-packages (from huggingface-hub<1.0,>=0.34.0->transformers) (2025.3.0)\n",
      "Requirement already satisfied: typing-extensions>=3.7.4.3 in /usr/local/lib/python3.12/dist-packages (from huggingface-hub<1.0,>=0.34.0->transformers) (4.15.0)\n",
      "Requirement already satisfied: hf-xet<2.0.0,>=1.1.3 in /usr/local/lib/python3.12/dist-packages (from huggingface-hub<1.0,>=0.34.0->transformers) (1.1.10)\n",
      "Requirement already satisfied: charset_normalizer<4,>=2 in /usr/local/lib/python3.12/dist-packages (from requests->transformers) (3.4.3)\n",
      "Requirement already satisfied: idna<4,>=2.5 in /usr/local/lib/python3.12/dist-packages (from requests->transformers) (3.10)\n",
      "Requirement already satisfied: urllib3<3,>=1.21.1 in /usr/local/lib/python3.12/dist-packages (from requests->transformers) (2.5.0)\n",
      "Requirement already satisfied: certifi>=2017.4.17 in /usr/local/lib/python3.12/dist-packages (from requests->transformers) (2025.8.3)\n"
     ]
    }
   ],
   "source": [
    "# 1: Install Hugging Face Transformers\n",
    "\n",
    "!pip install transformers sentencepiece\n",
    "\n",
    "from transformers import pipeline\n",
    "import random, re\n"
   ]
  },
  {
   "cell_type": "code",
   "execution_count": null,
   "metadata": {
    "colab": {
     "base_uri": "https://localhost:8080/",
     "height": 397,
     "referenced_widgets": [
      "c0661dcdf5144be79636edc68f3851ef",
      "046bec216bc848b288a864d617e98871",
      "927d454cd09c4c4b87617a9c973adc45",
      "ce552fc0a1ec4b4f9ccec08761e1f409",
      "d773404b6d094cdd9c188d70a53fec35",
      "95d374446f5d4650809269200c530569",
      "0c8fb88d964a46d7924b2dfd5b5ef7cb",
      "b477e82e25204a4bb0c73d95994153c7",
      "d5bfa34e612946e1851344314fb20adf",
      "1786e2858d3e44f3b5b2cfd7f293092b",
      "fa33aac8fc6c4e7097deed72e34c384e",
      "97b8ba3aac144f2f84168b2b43d474ab",
      "9298422078df4560814cd3a9974c907d",
      "8897d6d1a43645bab134c431f5b8c59b",
      "6f7c63bb0d014abda9c200cbc83a914d",
      "7f77fbf9d9914e95be35a56797ddac9a",
      "2e33eabaf36f4754b587bebc3cbf4f6d",
      "f5499a7714234e9e9e6b14bf4aad69b5",
      "a122e0f67c444b05b800aeefc3801f2a",
      "23a459b7075542bf957dd999176c3223",
      "4694c5d7382f44ffa8a594861e7abd39",
      "2f5818e560b44fb491b35289d1ad1d23",
      "e18ffaddb67d418987173ab4065d2c31",
      "a94bc17febdf4c1e9ba72d5fe97ec39b",
      "4151961d9a4a4d6586ae7941e25eb46b",
      "67435f2b880040acb33a2a168e274b04",
      "2818a44e82ce46bdaba54577e7f35ee2",
      "8aab9ec4df2e40f1a9fbddd7576a8c3e",
      "ba4b054725a94ea989736898f7bfd69a",
      "2d0c44c1c01a4d97b2d0add7cdf45a81",
      "a419414988104e7b88de2f4afc34c7fe",
      "ff328a02d09449229721f44633cb0aca",
      "96a175ffdcd84328b651b264ca6256d0",
      "9988b4e304684bbda3f65b443b5f8d11",
      "bdffce1e513f4475bcbf0acbc0d20298",
      "0d9c5e19acb64e3689cb1b73cce20a5f",
      "6a697ea1203e4ef6a24e628597b91dd2",
      "d63081c8ce7c4c279cfa6a1dac1a13eb",
      "932cdac8a68d48138d063a6f3438857e",
      "1d1e9dc3183b4983927a704ade6e3c6c",
      "d4251d933cf244758309c63e1f253f72",
      "c697c6842b6b4cd2986c17b0999977d9",
      "65dfd0c3523147b9af953267a17d5669",
      "07c348f57c6c49fcb549525a15623c64",
      "abfd5299274840d5a14cf543ed81fd80",
      "59e8e0d5bc1d461dad3d2880cac929c8",
      "3910e64e87c247c2b89dd5f22e2048ec",
      "a62e21a9ee1e466d862121a300b0a142",
      "8103bdd7939048678cd5e260e7ca4e10",
      "522b3f854274426cb72eaf32c84df851",
      "71f7642acfb8451ea52ce9e558b41274",
      "a25b897722784f5c859e20054942c94a",
      "1f032df560d441a9b61c8f437c667012",
      "ed9c54661d684b048c94a30f59f89830",
      "3af866b5e89d4156a218488ef574c704",
      "dc3508cdd09b486ab6ef1493da5d8cdc",
      "93bbd7ff90124c11a3ce75bdba8e22c6",
      "2cecf10eeeb7448f9a83bd9349db595f",
      "c0d2c743666345f6953b06eda0212048",
      "cc509f232d4140df8c1e1b85d2efa232",
      "f48a5d7a13124b28807bea4ba258daaf",
      "8f731bbf3df84d879614757bb4fd63ae",
      "e9fe5f13317f4c798d5c89dd8260ce03",
      "bd75338985e54f84b31861b0fdbcdbe5",
      "cc91397f106d43c4847b1e144777171a",
      "86308ab61266472b8575bf8ca8c31c30",
      "af9425684ed341469c28c0c9628a503f",
      "dfe1ab2b6eae4c4194d2adb3c613d00c",
      "c06478bdca62409b90509b09cf2cab26",
      "9db86de3053747c1839cf84fcc2a6f2e",
      "df9f503770764effb45372421039f4c0",
      "58cc13bda6424549998b74f49c8c07b6",
      "1b0b5e180c114201bc22fd6b2e4a113c",
      "7bcd0179e2c545e8b36ef3e07f47cba8",
      "1de0c918535e4a9c93df573b672ba1b8",
      "bb0b9dba283f453c83d523e843a038ec",
      "36bdebf634b84b53bba9e6af72be80a1"
     ]
    },
    "id": "hv9r-EAjUatY",
    "outputId": "a92a3220-56ae-4793-d9ca-6be7e41ba024"
   },
   "outputs": [
    {
     "name": "stderr",
     "output_type": "stream",
     "text": [
      "/usr/local/lib/python3.12/dist-packages/huggingface_hub/utils/_auth.py:94: UserWarning: \n",
      "The secret `HF_TOKEN` does not exist in your Colab secrets.\n",
      "To authenticate with the Hugging Face Hub, create a token in your settings tab (https://huggingface.co/settings/tokens), set it as secret in your Google Colab and restart your session.\n",
      "You will be able to reuse this secret in all of your notebooks.\n",
      "Please note that authentication is recommended but still optional to access public models or datasets.\n",
      "  warnings.warn(\n"
     ]
    },
    {
     "data": {
      "application/vnd.jupyter.widget-view+json": {
       "model_id": "c0661dcdf5144be79636edc68f3851ef",
       "version_major": 2,
       "version_minor": 0
      },
      "text/plain": [
       "config.json:   0%|          | 0.00/662 [00:00<?, ?B/s]"
      ]
     },
     "metadata": {},
     "output_type": "display_data"
    },
    {
     "data": {
      "application/vnd.jupyter.widget-view+json": {
       "model_id": "97b8ba3aac144f2f84168b2b43d474ab",
       "version_major": 2,
       "version_minor": 0
      },
      "text/plain": [
       "model.safetensors:   0%|          | 0.00/3.13G [00:00<?, ?B/s]"
      ]
     },
     "metadata": {},
     "output_type": "display_data"
    },
    {
     "data": {
      "application/vnd.jupyter.widget-view+json": {
       "model_id": "e18ffaddb67d418987173ab4065d2c31",
       "version_major": 2,
       "version_minor": 0
      },
      "text/plain": [
       "generation_config.json:   0%|          | 0.00/147 [00:00<?, ?B/s]"
      ]
     },
     "metadata": {},
     "output_type": "display_data"
    },
    {
     "data": {
      "application/vnd.jupyter.widget-view+json": {
       "model_id": "9988b4e304684bbda3f65b443b5f8d11",
       "version_major": 2,
       "version_minor": 0
      },
      "text/plain": [
       "tokenizer_config.json: 0.00B [00:00, ?B/s]"
      ]
     },
     "metadata": {},
     "output_type": "display_data"
    },
    {
     "data": {
      "application/vnd.jupyter.widget-view+json": {
       "model_id": "abfd5299274840d5a14cf543ed81fd80",
       "version_major": 2,
       "version_minor": 0
      },
      "text/plain": [
       "spiece.model:   0%|          | 0.00/792k [00:00<?, ?B/s]"
      ]
     },
     "metadata": {},
     "output_type": "display_data"
    },
    {
     "data": {
      "application/vnd.jupyter.widget-view+json": {
       "model_id": "dc3508cdd09b486ab6ef1493da5d8cdc",
       "version_major": 2,
       "version_minor": 0
      },
      "text/plain": [
       "tokenizer.json: 0.00B [00:00, ?B/s]"
      ]
     },
     "metadata": {},
     "output_type": "display_data"
    },
    {
     "data": {
      "application/vnd.jupyter.widget-view+json": {
       "model_id": "af9425684ed341469c28c0c9628a503f",
       "version_major": 2,
       "version_minor": 0
      },
      "text/plain": [
       "special_tokens_map.json: 0.00B [00:00, ?B/s]"
      ]
     },
     "metadata": {},
     "output_type": "display_data"
    },
    {
     "name": "stderr",
     "output_type": "stream",
     "text": [
      "Device set to use cpu\n"
     ]
    },
    {
     "name": "stdout",
     "output_type": "stream",
     "text": [
      "✅ Model loaded successfully\n"
     ]
    }
   ],
   "source": [
    "# 2: Load Hugging Face Model\n",
    "\n",
    "generator = pipeline(\"text2text-generation\", model=\"google/flan-t5-large\")\n",
    "\n",
    "print(\"✅ Model loaded successfully\")\n"
   ]
  },
  {
   "cell_type": "code",
   "execution_count": 1,
   "metadata": {
    "id": "fMWq9KVRU3B5"
   },
   "outputs": [],
   "source": [
    "# 3: Flashcard Functions\n",
    "\n",
    "def generate_flashcards(topic, num_cards=5):\n",
    "    \"\"\"\n",
    "    Generate Q&A flashcards for a given topic using a Hugging Face model.\n",
    "    \"\"\"\n",
    "    flashcards = []\n",
    "    for i in range(num_cards):\n",
    "        prompt = f\"Create a study flashcard on the topic '{topic}'. Format as 'Q: ... A: ...'.\"\n",
    "        result = generator(prompt, max_new_tokens=150, do_sample=True, temperature=0.7)\n",
    "        text = result[0]['generated_text']\n",
    "\n",
    "        # Try to extract Q/A\n",
    "        match = re.findall(r\"Q:(.*)A:(.*)\", text, re.S)\n",
    "        if match:\n",
    "            q, a = match[0]\n",
    "            flashcards.append({\n",
    "                \"question\": q.strip(),\n",
    "                \"answer\": a.strip()\n",
    "            })\n",
    "        else:\n",
    "            # fallback in case parsing fails\n",
    "            flashcards.append({\n",
    "                \"question\": f\"What is {topic}?\",\n",
    "                \"answer\": f\"{topic} is an important concept to study.\"\n",
    "            })\n",
    "    return flashcards\n",
    "\n",
    "def display_flashcards(flashcards):\n",
    "    \"\"\"\n",
    "    Print flashcards nicely.\n",
    "    \"\"\"\n",
    "    for i, fc in enumerate(flashcards, 1):\n",
    "        print(f\"Flashcard {i}\")\n",
    "        print(\"Q:\", fc[\"question\"])\n",
    "        print(\"A:\", fc[\"answer\"])\n",
    "        print(\"-\"*40)\n"
   ]
  },
  {
   "cell_type": "code",
   "execution_count": 4,
   "metadata": {
    "colab": {
     "base_uri": "https://localhost:8080/",
     "height": 380,
     "referenced_widgets": [
      "e365b04d82144ec2b62cb18d36242015",
      "94589ac1a4fc4a6bb0e23b176048cc47",
      "d7f9b22984fe4e8f926098a9ec657174",
      "e135bf54a2084e60949c4e6d678bfab4",
      "be363c558be34ab8b26adb985be59f3c",
      "5b3abc122ef74870a67e8bcf928dcdee",
      "4ddd77b7462f41d79768e64bcfda7406",
      "7aa24dcea8f34ab18474060d538308dd",
      "a0311629ed0a4b67ac4d4b81d1865a36",
      "aeae482a787d431fbacd4ab874140598",
      "6fbd1d4610f546d1971e418cf18fb0f1",
      "2970eb25d4494ed8a282692811d96c30",
      "55f2f2eb3a894d798ae8853d4da44848",
      "fd0d4c9d1ea9488b825f1006b6e4b729",
      "cf953a9b8009401da4fec95e1c8ccb7a",
      "e19a548ffc2a425d93ba7bf4aa0f09f0",
      "e680d63fc86f4f879e6d40df9a240f08",
      "36949cd79cfa4c4989d31cfa903e36db",
      "5c83dabf8bec4600a93b7bc9cdadbffe",
      "0f43cac8a5ea4ea0ac1a20c00e748326",
      "02c9ebdf89f4433eac6fb780b8323dca",
      "a7cafddaf183499fb182e02f95b8eee3",
      "80486792388047cdb82d56c5a83636ea",
      "4990d840b4fb493ab06f8011873c2233",
      "114611561de44d929aee65ce4e7000f8",
      "a3d905c9a693489da63920f85d4938e0",
      "6b0e132c0145401d8d9a4633ec3f9d59",
      "404c4239d54b45d5a062d99f53fbc8b7",
      "77faa0ad3cc245d1a666cbf5e9ab9bc4",
      "4b5b1a5969ee48d0bec0389af11a8360",
      "033020a268054f3fab2efb986f5b471f",
      "b1e8fd4453144919bd416453abde17f2",
      "c96d483c4b754a97950d9cce5c609054",
      "d1beb7bea8354f4e9e64d9ebb1e79e29",
      "2cd404cdd2ed41c284c567ba9bed8178",
      "a0b17d3348da43129b42aee44e9fd69e",
      "9164de5e1df247efbcfb3db04956e937",
      "44af35812ce140e18edf5ab651b74cb6",
      "6b4e5a1714a14b8995a12215544518c2",
      "85af3fdb78d04ec993b199163c06866a",
      "75337fe780f3462ea23229a49081204f",
      "f20848961f674908a05c7e764b01447f",
      "9078e663363043268adc303d7bd184db",
      "0de9ad61cbbd454094725b750fdaeb32",
      "ec3a429297094ef2a6ac9b7cde613a5c",
      "920eb8c8af5e4fdc91493d81e14e2a43",
      "bab472c30a8e42439ba673e491600159",
      "1e0aca486b134bf9a4c155d728c6bc15",
      "be4bfb3f2df64ca18c399158b5bd0308",
      "97c87783fa37450fb22f0bf1faa17813",
      "834364563c894cd38c854db739ad525a",
      "92481d4bbabf450db2333a75667f30e7",
      "3801c7a16eda4f129d474ba84baa886d",
      "0de569f0872845469f27d3e4cac22f8a",
      "7171404deaf74e178f48fca5e37e274f",
      "143753d5fa324d81b027e7649a356988",
      "4e2e7464adb74867aefaee04127a84e6",
      "867dbd745c714504b1567d6f05617be3",
      "0c7e0d3a01804b50a1c09571052fb180",
      "a902dd73e66f4d23aef3b0c17c153487",
      "50d0f0584c1342a48a2070ae565c7403",
      "c9279195f480417ea859daa0ced78a40",
      "5a954dd3bb184d35aef648e259f37d4f",
      "b3e1b31389ec468baa0ad618a46f509f",
      "d2ededa2b7244f0faed9435da03e521b",
      "ac2047559a2040aaaa1c78ccdd810d4a",
      "7db7981cf185436982381da7456e94fa",
      "319e7b2f29a24a45a4afdea144204da6",
      "975d2db62b2e45bd849056916d2cf5b9",
      "f5d055f69e2f4d6da0f6c752060a1b1b",
      "f3f90a00a95a42dda4b3c987dcb673d0",
      "4003b17437c34eae9a918d8cb1c1f801",
      "5a1b0b4d03b14bf5885e57a3841ea82f",
      "5435d057a6ad47768b8b845ed6fb4bfd",
      "843b3968b13147bd9991fe2556d287f4",
      "b387e09c07304b309311dbc62687ccab",
      "76fce44a4a544a9da918f46be7c20ae9"
     ]
    },
    "id": "Izf9FSfe2WNg",
    "outputId": "fc2a45a5-db8e-4350-8992-1dce4fa33148"
   },
   "outputs": [
    {
     "name": "stderr",
     "output_type": "stream",
     "text": [
      "/usr/local/lib/python3.12/dist-packages/huggingface_hub/utils/_auth.py:94: UserWarning: \n",
      "The secret `HF_TOKEN` does not exist in your Colab secrets.\n",
      "To authenticate with the Hugging Face Hub, create a token in your settings tab (https://huggingface.co/settings/tokens), set it as secret in your Google Colab and restart your session.\n",
      "You will be able to reuse this secret in all of your notebooks.\n",
      "Please note that authentication is recommended but still optional to access public models or datasets.\n",
      "  warnings.warn(\n"
     ]
    },
    {
     "data": {
      "application/vnd.jupyter.widget-view+json": {
       "model_id": "e365b04d82144ec2b62cb18d36242015",
       "version_major": 2,
       "version_minor": 0
      },
      "text/plain": [
       "config.json:   0%|          | 0.00/662 [00:00<?, ?B/s]"
      ]
     },
     "metadata": {},
     "output_type": "display_data"
    },
    {
     "data": {
      "application/vnd.jupyter.widget-view+json": {
       "model_id": "2970eb25d4494ed8a282692811d96c30",
       "version_major": 2,
       "version_minor": 0
      },
      "text/plain": [
       "model.safetensors:   0%|          | 0.00/3.13G [00:00<?, ?B/s]"
      ]
     },
     "metadata": {},
     "output_type": "display_data"
    },
    {
     "data": {
      "application/vnd.jupyter.widget-view+json": {
       "model_id": "80486792388047cdb82d56c5a83636ea",
       "version_major": 2,
       "version_minor": 0
      },
      "text/plain": [
       "generation_config.json:   0%|          | 0.00/147 [00:00<?, ?B/s]"
      ]
     },
     "metadata": {},
     "output_type": "display_data"
    },
    {
     "data": {
      "application/vnd.jupyter.widget-view+json": {
       "model_id": "d1beb7bea8354f4e9e64d9ebb1e79e29",
       "version_major": 2,
       "version_minor": 0
      },
      "text/plain": [
       "tokenizer_config.json: 0.00B [00:00, ?B/s]"
      ]
     },
     "metadata": {},
     "output_type": "display_data"
    },
    {
     "data": {
      "application/vnd.jupyter.widget-view+json": {
       "model_id": "ec3a429297094ef2a6ac9b7cde613a5c",
       "version_major": 2,
       "version_minor": 0
      },
      "text/plain": [
       "spiece.model:   0%|          | 0.00/792k [00:00<?, ?B/s]"
      ]
     },
     "metadata": {},
     "output_type": "display_data"
    },
    {
     "data": {
      "application/vnd.jupyter.widget-view+json": {
       "model_id": "143753d5fa324d81b027e7649a356988",
       "version_major": 2,
       "version_minor": 0
      },
      "text/plain": [
       "tokenizer.json: 0.00B [00:00, ?B/s]"
      ]
     },
     "metadata": {},
     "output_type": "display_data"
    },
    {
     "data": {
      "application/vnd.jupyter.widget-view+json": {
       "model_id": "7db7981cf185436982381da7456e94fa",
       "version_major": 2,
       "version_minor": 0
      },
      "text/plain": [
       "special_tokens_map.json: 0.00B [00:00, ?B/s]"
      ]
     },
     "metadata": {},
     "output_type": "display_data"
    },
    {
     "name": "stderr",
     "output_type": "stream",
     "text": [
      "Device set to use cpu\n"
     ]
    }
   ],
   "source": [
    "from transformers import pipeline\n",
    "generator = pipeline(\"text2text-generation\", model=\"google/flan-t5-large\")\n"
   ]
  },
  {
   "cell_type": "code",
   "execution_count": 5,
   "metadata": {
    "colab": {
     "base_uri": "https://localhost:8080/"
    },
    "id": "-7-VJw7D2ero",
    "outputId": "788bf48e-7c8e-4cae-a49f-99f55215bc8b"
   },
   "outputs": [
    {
     "name": "stdout",
     "output_type": "stream",
     "text": [
      "✅ generator already available\n"
     ]
    }
   ],
   "source": [
    "# Repair: make sure the HF generator exists\n",
    "try:\n",
    "    generator  # do we already have it?\n",
    "    print(\"✅ generator already available\")\n",
    "except NameError:\n",
    "    !pip -q install transformers sentencepiece\n",
    "    from transformers import pipeline\n",
    "    # you can switch to \"google/flan-t5-small\" to speed up\n",
    "    generator = pipeline(\"text2text-generation\", model=\"google/flan-t5-large\")\n",
    "    print(\"✅ generator created\")\n"
   ]
  },
  {
   "cell_type": "code",
   "execution_count": 6,
   "metadata": {
    "id": "9fWVHjcm2qDF"
   },
   "outputs": [],
   "source": [
    "# Utilities + lazy loader\n",
    "def get_generator(model_name=\"google/flan-t5-large\"):\n",
    "    global generator\n",
    "    try:\n",
    "        generator\n",
    "    except NameError:\n",
    "        from transformers import pipeline\n",
    "        generator = pipeline(\"text2text-generation\", model=model_name)\n",
    "        print(f\"⚙️ Loaded model: {model_name}\")\n",
    "    return generator\n",
    "\n",
    "def generate_flashcards(topic, num_cards=5, model_name=\"google/flan-t5-large\"):\n",
    "    gen = get_generator(model_name)\n",
    "    import re\n",
    "    flashcards = []\n",
    "    for _ in range(num_cards):\n",
    "        prompt = (\n",
    "            f\"Create a study flashcard on the topic '{topic}'. \"\n",
    "            \"Format strictly as:\\nQ: <question>\\nA: <answer>\"\n",
    "        )\n",
    "        result = gen(prompt, max_new_tokens=150, do_sample=True, temperature=0.7)\n",
    "        text = result[0][\"generated_text\"]\n",
    "\n",
    "        m = re.search(r\"Q:\\s*(.+?)\\s*A:\\s*(.+)\", text, flags=re.S)\n",
    "        if m:\n",
    "            q, a = m.group(1).strip(), m.group(2).strip()\n",
    "        else:\n",
    "            q, a = f\"What is {topic}?\", f\"{topic} is an important concept to study.\"\n",
    "        flashcards.append({\"question\": q, \"answer\": a})\n",
    "    return flashcards\n",
    "\n",
    "def display_flashcards(flashcards):\n",
    "    for i, fc in enumerate(flashcards, 1):\n",
    "        print(f\"Flashcard {i}\")\n",
    "        print(\"Q:\", fc[\"question\"])\n",
    "        print(\"A:\", fc[\"answer\"])\n",
    "        print(\"-\"*40)\n"
   ]
  },
  {
   "cell_type": "code",
   "execution_count": 7,
   "metadata": {
    "colab": {
     "base_uri": "https://localhost:8080/"
    },
    "id": "29z0qUR8VFHc",
    "outputId": "96be7808-9749-41dd-8620-10abfdcb3873"
   },
   "outputs": [
    {
     "name": "stdout",
     "output_type": "stream",
     "text": [
      "Flashcard 1\n",
      "Q: What is Machine Learning Basics?\n",
      "A: Machine Learning Basics is an important concept to study.\n",
      "----------------------------------------\n",
      "Flashcard 2\n",
      "Q: What is Machine Learning Basics?\n",
      "A: Machine Learning Basics is an important concept to study.\n",
      "----------------------------------------\n",
      "Flashcard 3\n",
      "Q: What is Machine Learning Basics?\n",
      "A: Machine Learning Basics is an important concept to study.\n",
      "----------------------------------------\n",
      "Flashcard 4\n",
      "Q: What is Machine Learning Basics?\n",
      "A: Machine Learning Basics is an important concept to study.\n",
      "----------------------------------------\n",
      "Flashcard 5\n",
      "Q: What is Machine Learning Basics?\n",
      "A: Machine Learning Basics is an important concept to study.\n",
      "----------------------------------------\n"
     ]
    }
   ],
   "source": [
    "# 4: Generate Flashcards\n",
    "\n",
    "topic = \"Machine Learning Basics\"\n",
    "flashcards = generate_flashcards(topic, num_cards=5)\n",
    "\n",
    "display_flashcards(flashcards)\n"
   ]
  },
  {
   "cell_type": "code",
   "execution_count": 8,
   "metadata": {
    "colab": {
     "base_uri": "https://localhost:8080/"
    },
    "id": "Lp2zmBh8VVfb",
    "outputId": "af805d9f-7111-4f5d-9a75-3ce9d7159609"
   },
   "outputs": [
    {
     "name": "stdout",
     "output_type": "stream",
     "text": [
      "Flashcard 1\n",
      "Q: What is Neural Network?\n",
      "A: Neural Network is an important concept to study.\n",
      "----------------------------------------\n",
      "Flashcard 2\n",
      "Q: What is Neural Network?\n",
      "A: Neural Network is an important concept to study.\n",
      "----------------------------------------\n",
      "Flashcard 3\n",
      "Q: What is Neural Network?\n",
      "A: Neural Network is an important concept to study.\n",
      "----------------------------------------\n",
      "Flashcard 4\n",
      "Q: What is Neural Network?\n",
      "A: Neural Network is an important concept to study.\n",
      "----------------------------------------\n",
      "Flashcard 5\n",
      "Q: What is Neural Network?\n",
      "A: Neural Network is an important concept to study.\n",
      "----------------------------------------\n"
     ]
    }
   ],
   "source": [
    "# 5: Try Another Topic\n",
    "\n",
    "topic = \"Neural Network\"\n",
    "flashcards = generate_flashcards(topic, num_cards=5)\n",
    "display_flashcards(flashcards)\n"
   ]
  },
  {
   "cell_type": "code",
   "execution_count": 9,
   "metadata": {
    "id": "Z7S4FAnFWQ4B"
   },
   "outputs": [],
   "source": [
    "# 6: Simple Quiz Helpers\n",
    "\n",
    "def _normalize_text(s: str) -> str:\n",
    "    return re.sub(r\"[^a-z0-9]+\", \" \", (s or \"\").lower()).strip()\n",
    "\n",
    "def check_free_text(expected: str, user_text: str) -> bool:\n",
    "    E = _normalize_text(expected)\n",
    "    U = _normalize_text(user_text)\n",
    "    if not E or not U:\n",
    "        return False\n",
    "    # Loose matching: containment, prefix match, or high token overlap\n",
    "    if U in E or E in U:\n",
    "        return True\n",
    "    e_tokens, u_tokens = E.split(), U.split()\n",
    "    overlap = len(set(e_tokens) & set(u_tokens)) / max(1, len(set(e_tokens)))\n",
    "    return overlap >= 0.6\n",
    "\n",
    "def quiz_one(card: dict, user_answer: str) -> dict:\n",
    "    t = card.get(\"type\", \"qa\")\n",
    "    if t == \"mcq\":\n",
    "        # allow A/B/C/D or full option text\n",
    "        ua = user_answer.strip()\n",
    "        opts = card.get(\"options\", [])\n",
    "        correct_text = card.get(\"answer\", \"\")\n",
    "        correct_letter = card.get(\"answer_letter\", \"\")\n",
    "        letter_map = {chr(65+i): opts[i] for i in range(len(opts))}\n",
    "        # normalize user input\n",
    "        ua_norm = ua.strip().upper()\n",
    "        if ua_norm in letter_map:\n",
    "            ua_text = letter_map[ua_norm]\n",
    "        else:\n",
    "            ua_text = user_answer\n",
    "        ok = _normalize_text(ua_text) == _normalize_text(correct_text)\n",
    "        return {\n",
    "            \"correct\": ok,\n",
    "            \"expected\": f\"{correct_letter}. {correct_text}\" if correct_letter else correct_text,\n",
    "            \"explanation\": card.get(\"explanation\", \"\")\n",
    "        }\n",
    "    elif t == \"tf\":\n",
    "        expected = (card.get(\"answer\",\"True\")).strip().lower()\n",
    "        ua = (user_answer or \"\").strip().lower()\n",
    "        ok = ua in [\"t\",\"true\",\"f\",\"false\"] and ((ua.startswith(\"t\") and expected==\"true\") or (ua.startswith(\"f\") and expected==\"false\"))\n",
    "        return {\n",
    "            \"correct\": ok,\n",
    "            \"expected\": expected.title(),\n",
    "            \"explanation\": card.get(\"explanation\",\"\")\n",
    "        }\n",
    "    else:  # qa or others -> free text\n",
    "        expected = card.get(\"answer\",\"\")\n",
    "        ok = check_free_text(expected, user_answer)\n",
    "        return {\n",
    "            \"correct\": ok,\n",
    "            \"expected\": expected,\n",
    "            \"explanation\": card.get(\"explanation\",\"\")\n",
    "        }\n",
    "\n",
    "def pretty_print_card(i: int, card: dict):\n",
    "    print(f\"\\n--- Card {i} | {card.get('type','qa').upper()} ---\")\n",
    "    print(\"Q:\", card.get(\"question\",\"\"))\n",
    "    if card.get(\"type\") == \"mcq\" and card.get(\"options\"):\n",
    "        for j, opt in enumerate(card[\"options\"]):\n",
    "            print(f\"  {chr(65+j)}. {opt}\")\n"
   ]
  },
  {
   "cell_type": "code",
   "execution_count": 10,
   "metadata": {
    "id": "swd4aeu7WZVc"
   },
   "outputs": [],
   "source": [
    "# 7: Exporters (CSV / Anki TSV / JSON)\n",
    "import os, json\n",
    "\n",
    "EXPORT_DIR = \"flashcards_exports\"\n",
    "os.makedirs(EXPORT_DIR, exist_ok=True)\n",
    "\n",
    "def export_csv(deck, fname=\"flashcards.csv\"):\n",
    "    df = pd.DataFrame(deck)\n",
    "    path = os.path.join(EXPORT_DIR, fname)\n",
    "    df.to_csv(path, index=False)\n",
    "    return path\n",
    "\n",
    "def export_anki_tsv(deck, fname=\"anki_import.tsv\"):\n",
    "    \"\"\"\n",
    "    Minimal Anki format: Front[TAB]Back[TAB]Tags\n",
    "    For MCQ, we include options in the front for context.\n",
    "    \"\"\"\n",
    "    lines = []\n",
    "    for c in deck:\n",
    "        front = c[\"question\"]\n",
    "        if c.get(\"type\") == \"mcq\" and c.get(\"options\"):\n",
    "            opts = \"<br>\".join([f\"{chr(65+i)}. {opt}\" for i, opt in enumerate(c[\"options\"])])\n",
    "            front = f\"{front}<br>{opts}\"\n",
    "        back = c.get(\"answer\",\"\")\n",
    "        if c.get(\"explanation\"):\n",
    "            back += f\"<br><i>{c['explanation']}</i>\"\n",
    "        tags = c.get(\"type\",\"qa\")\n",
    "        lines.append(f\"{front}\\t{back}\\t{tags}\")\n",
    "    path = os.path.join(EXPORT_DIR, fname)\n",
    "    with open(path, \"w\", encoding=\"utf-8\") as f:\n",
    "        f.write(\"\\n\".join(lines))\n",
    "    return path\n",
    "\n",
    "def export_json(deck, fname=\"flashcards.json\"):\n",
    "    path = os.path.join(EXPORT_DIR, fname)\n",
    "    with open(path, \"w\", encoding=\"utf-8\") as f:\n",
    "        json.dump(deck, f, ensure_ascii=False, indent=2)\n",
    "    return path\n"
   ]
  },
  {
   "cell_type": "code",
   "execution_count": 11,
   "metadata": {
    "colab": {
     "base_uri": "https://localhost:8080/"
    },
    "id": "VuE4ZT_BWz6j",
    "outputId": "5b9c20fa-f91d-4250-e4c8-0a0f10b7a079"
   },
   "outputs": [
    {
     "name": "stdout",
     "output_type": "stream",
     "text": [
      "✅ generate_deck was missing; defined now.\n"
     ]
    }
   ],
   "source": [
    "try:\n",
    "    generate_deck\n",
    "except NameError:\n",
    "    def generate_deck(topic, n_qa=6, n_mcq=5, n_tf=4):\n",
    "        deck = []\n",
    "        deck += generate_qa(topic, n_qa)\n",
    "        deck += generate_mcq(topic, n_mcq)\n",
    "        deck += generate_tf(topic, n_tf)\n",
    "        return deck\n",
    "    print(\"✅ generate_deck was missing; defined now.\")\n",
    "else:\n",
    "    print(\"✅ generate_deck already defined.\")\n"
   ]
  },
  {
   "cell_type": "code",
   "execution_count": 12,
   "metadata": {
    "id": "-YEL9mrPYQBl"
   },
   "outputs": [],
   "source": [
    "# 8a: Repair Missing Functions\n",
    "import re, json, os, pandas as pd\n",
    "\n",
    "# If runtime reset, make sure the HF model exists\n",
    "try:\n",
    "    generator\n",
    "except NameError:\n",
    "    from transformers import pipeline\n",
    "    generator = pipeline(\"text2text-generation\", model=\"google/flan-t5-large\")\n",
    "    print(\"ℹ️ Model loaded again\")\n",
    "\n",
    "def ensure_fn(name, fn):\n",
    "    if name not in globals():\n",
    "        globals()[name] = fn\n",
    "        print(f\"• Defined missing: {name}\")\n",
    "\n",
    "# Re-define generate_deck (in case it’s missing)\n",
    "def _generate_deck(topic, n_qa=6, n_mcq=5, n_tf=4):\n",
    "    deck = []\n",
    "    deck += generate_qa(topic, n_qa)\n",
    "    deck += generate_mcq(topic, n_mcq)\n",
    "    deck += generate_tf(topic, n_tf)\n",
    "    return deck\n",
    "ensure_fn(\"generate_deck\", _generate_deck)\n",
    "\n",
    "# Re-define pretty_print_card\n",
    "def _pretty_print_card(i: int, card: dict):\n",
    "    print(f\"\\n--- Card {i} | {card.get('type','qa').upper()} ---\")\n",
    "    print(\"Q:\", card.get(\"question\",\"\"))\n",
    "    if card.get(\"type\") == \"mcq\" and card.get(\"options\"):\n",
    "        for j, opt in enumerate(card[\"options\"]):\n",
    "            print(f\"  {chr(65+j)}. {opt}\")\n",
    "ensure_fn(\"pretty_print_card\", _pretty_print_card)\n",
    "\n",
    "# Re-define quiz_one\n",
    "def _normalize_text(s: str) -> str:\n",
    "    return re.sub(r\"[^a-z0-9]+\",\" \", (s or \"\").lower()).strip()\n",
    "\n",
    "def _check_free_text(expected, user_text) -> bool:\n",
    "    E, U = _normalize_text(expected), _normalize_text(user_text)\n",
    "    if not E or not U: return False\n",
    "    if U in E or E in U: return True\n",
    "    e_tokens, u_tokens = E.split(), U.split()\n",
    "    overlap = len(set(e_tokens) & set(u_tokens)) / max(1, len(set(e_tokens)) or 1)\n",
    "    return overlap >= 0.6\n",
    "\n",
    "def _quiz_one(card: dict, user_answer: str) -> dict:\n",
    "    t = card.get(\"type\",\"qa\")\n",
    "    if t == \"mcq\":\n",
    "        ua = user_answer.strip()\n",
    "        opts = card.get(\"options\", [])\n",
    "        correct_text = card.get(\"answer\",\"\")\n",
    "        correct_letter = card.get(\"answer_letter\",\"\")\n",
    "        letter_map = {chr(65+i): opts[i] for i in range(len(opts))}\n",
    "        ua_text = letter_map.get(ua.upper(), ua)\n",
    "        ok = _normalize_text(ua_text) == _normalize_text(correct_text)\n",
    "        return {\"correct\": ok, \"expected\": f\"{correct_letter}. {correct_text}\", \"explanation\": card.get(\"explanation\",\"\")}\n",
    "    if t == \"tf\":\n",
    "        expected = (card.get(\"answer\",\"True\")).lower()\n",
    "        ua = (user_answer or \"\").lower()\n",
    "        ok = ua.startswith(expected[0])  # first letter match\n",
    "        return {\"correct\": ok, \"expected\": expected.title(), \"explanation\": card.get(\"explanation\",\"\")}\n",
    "    # QA fallback\n",
    "    ok = _check_free_text(card.get(\"answer\",\"\"), user_answer)\n",
    "    return {\"correct\": ok, \"expected\": card.get(\"answer\",\"\"), \"explanation\": card.get(\"explanation\",\"\")}\n",
    "\n",
    "ensure_fn(\"quiz_one\", _quiz_one)\n"
   ]
  },
  {
   "cell_type": "code",
   "execution_count": 16,
   "metadata": {
    "colab": {
     "base_uri": "https://localhost:8080/",
     "height": 530,
     "referenced_widgets": [
      "ce5d6347ebd24ce4b7a013af07396180",
      "c7e1cf466fe64be78dbd8110861fd525",
      "29044018ef5c4d74bd65415e08952d51",
      "09aa0adfaf5b456d83ae1a8047773717",
      "acc218a9fe1442f4b1ca9289a45888dc",
      "639e6b9529a846ae9d3a57fa1db3bfbe",
      "f2de950c137b4c0792db3eb64d2ab3f6",
      "555deb4668f644c7906c0603fc7080d4",
      "71b8feb3097c4bfda6b55ef8b8d90b9c",
      "ec15d3011a1c4fa1914f99a045eadbb3",
      "76ebbec09a7a409994341e4ba15ddf37",
      "2faf305f13264a0aad619916c7d03196",
      "acc3c564df69482db4e7ff2ef394ed68",
      "25cd0a489200411e9031309ae19c9a70",
      "ee261cf1ad3a46368baba10dd75adad9",
      "b7ef067c22814b92be0a3d67a499db9c",
      "faf3725f695b4476a144a18cd4ff16b4",
      "e86cf57015c34450b0399eacd872bf52",
      "1d7567d60ddf412081e23723e3303741",
      "16092e587f7e429e9d970c0c9b6e0e59",
      "8f38c498c98e4e138474570636008cdf",
      "64703d2b6c714090b9441caa02f881f8",
      "27157a0ee2ae46498eb360bcb23b5939",
      "966721ca2c824793a7d87fd9acbd732b",
      "142f43a0b09c44179fe1f3bbbe01fe9d",
      "8167616454fd44e79891d927351e14a3",
      "097441a8e8814c22af2a0faaaadd07e1",
      "f300a9a102d64f1f9d6eae1309c26ca5",
      "969b1bc96ab34310936567990b13bb1e",
      "172c3f9c2be94d53a4c9b47048ca334d",
      "ee405b0c734240b7bdf543a1dbacde4f",
      "a68d5554f8a44eb79f6953db35cad6a8",
      "d8e3b9a1b76e46d68f2d393268c6ae37",
      "e67021fe64754cba82b5d28259fa44f8",
      "867194af0b544cff88a9defebdcd5dc6",
      "b1430d1fb59543218a50d30790aa45b1",
      "e07beb05fe314e97ad44c16b0038ec19",
      "ced2c04096f440cbb9d13b7a472bc341",
      "975aec69837040808b7eca93b657df94",
      "07edf559f81f48b2b73f763e25a0a459",
      "849a5bdc49bc43ebbef055e139048c08",
      "e5835608cd174199bbcd04085b7b93ae",
      "bb866b86b8674f7595fd0de686c677de",
      "e5cc92dd88074084b95b30ff70d2246c",
      "5915d2aef3e74510abb70e7ce538089d",
      "cb7f705aec9646daa7d5fe483e07c958",
      "1d28b33af4a34b9d9f651cd380f674f4",
      "2ebe1255530e45dc867902eca8c1ce02",
      "51cefd6020024c829a394dac4ab3ea6a",
      "8b9ab696a4a54c17a3c0e1d339dd84b9",
      "ebc919091f9e41f3bb09c1b20e23eba1",
      "b89ba48da6614678b0290b9680033647",
      "692f49f9b8e54dddbb71bfa42fe6aad9",
      "a7024232c62c4631858bbd3d9cd0b043",
      "b031a49f723b4eff9398724d35fbacf3",
      "1dcd5f34e2d345c98cad28bb156b5b05",
      "046f044a186e4b7eb52f182ac54e8a7d",
      "a1b57f6a4dbf4b638f9fd67379bce3bc",
      "23ba1b9982244a558af49d20cfac4a36",
      "842c3f6dc23143da84cdb9d2a739da1f",
      "6d78a73d6c9043db937e0b25235f4f87",
      "9b20828eaf0c482db544fd0331737b31",
      "a44b357de8214a2998b7725f4d2a31a2",
      "965bd2769224469688925eadd368721c",
      "c1f5b2e9cb454075bf38c3f6e3186ecb",
      "006f29a4cf114943b95eb8d7c51ef97f",
      "cf5517c66f164a289d00272ac337f9d1",
      "8dbe4aaca45c4f8c8054c1e061d48ed8",
      "dd5f7b1c471a45ebb5663b9842234318",
      "bb49382bf3384b6990d3366f7b841eb8",
      "065cddf3d7234d25af81ea9232b7c564",
      "00ebc6f71e804bfeb1b50e4d127a3658",
      "77aac52aca034845b364aaa62a9e2065",
      "4fd44db3d8e84de2aeed0ca03d145b85",
      "cfd16a1f45e247b0856cd87db9e2af5d",
      "dce7f7cf92aa46c882afa90421b5b313",
      "5154a80e12634829872a13a736709806"
     ]
    },
    "id": "ExbcVRta4Pck",
    "outputId": "d7d060ca-1f37-496e-b732-7faab1cbf591"
   },
   "outputs": [
    {
     "data": {
      "application/vnd.jupyter.widget-view+json": {
       "model_id": "ce5d6347ebd24ce4b7a013af07396180",
       "version_major": 2,
       "version_minor": 0
      },
      "text/plain": [
       "tokenizer_config.json: 0.00B [00:00, ?B/s]"
      ]
     },
     "metadata": {},
     "output_type": "display_data"
    },
    {
     "data": {
      "application/vnd.jupyter.widget-view+json": {
       "model_id": "2faf305f13264a0aad619916c7d03196",
       "version_major": 2,
       "version_minor": 0
      },
      "text/plain": [
       "spiece.model:   0%|          | 0.00/792k [00:00<?, ?B/s]"
      ]
     },
     "metadata": {},
     "output_type": "display_data"
    },
    {
     "data": {
      "application/vnd.jupyter.widget-view+json": {
       "model_id": "27157a0ee2ae46498eb360bcb23b5939",
       "version_major": 2,
       "version_minor": 0
      },
      "text/plain": [
       "tokenizer.json: 0.00B [00:00, ?B/s]"
      ]
     },
     "metadata": {},
     "output_type": "display_data"
    },
    {
     "data": {
      "application/vnd.jupyter.widget-view+json": {
       "model_id": "e67021fe64754cba82b5d28259fa44f8",
       "version_major": 2,
       "version_minor": 0
      },
      "text/plain": [
       "special_tokens_map.json: 0.00B [00:00, ?B/s]"
      ]
     },
     "metadata": {},
     "output_type": "display_data"
    },
    {
     "data": {
      "application/vnd.jupyter.widget-view+json": {
       "model_id": "5915d2aef3e74510abb70e7ce538089d",
       "version_major": 2,
       "version_minor": 0
      },
      "text/plain": [
       "config.json: 0.00B [00:00, ?B/s]"
      ]
     },
     "metadata": {},
     "output_type": "display_data"
    },
    {
     "data": {
      "application/vnd.jupyter.widget-view+json": {
       "model_id": "1dcd5f34e2d345c98cad28bb156b5b05",
       "version_major": 2,
       "version_minor": 0
      },
      "text/plain": [
       "model.safetensors:   0%|          | 0.00/308M [00:00<?, ?B/s]"
      ]
     },
     "metadata": {},
     "output_type": "display_data"
    },
    {
     "data": {
      "application/vnd.jupyter.widget-view+json": {
       "model_id": "cf5517c66f164a289d00272ac337f9d1",
       "version_major": 2,
       "version_minor": 0
      },
      "text/plain": [
       "generation_config.json:   0%|          | 0.00/147 [00:00<?, ?B/s]"
      ]
     },
     "metadata": {},
     "output_type": "display_data"
    },
    {
     "name": "stderr",
     "output_type": "stream",
     "text": [
      "Device set to use cpu\n"
     ]
    },
    {
     "name": "stdout",
     "output_type": "stream",
     "text": [
      "✅ Model ready: google/flan-t5-small | device: CPU\n",
      "\n",
      "Sanity check:\n",
      " - ultra_gen                   : OK\n",
      " - _u_call                     : OK\n",
      " - ultra_fast_generate_qa      : OK\n",
      " - ultra_fast_generate_mcq     : OK\n",
      " - ultra_fast_generate_tf      : OK\n",
      " - ultra_fast_generate_deck    : OK\n",
      " - generate_qa                 : OK\n",
      " - generate_mcq                : OK\n",
      " - generate_tf                 : OK\n",
      " - generate_deck               : OK\n",
      " - export_csv                  : OK\n",
      " - export_anki_tsv             : OK\n",
      " - export_json                 : OK\n"
     ]
    }
   ],
   "source": [
    "# === MASTER REPAIR CELL ===\n",
    "# Run this once if you see NameError (generator/generate_qa/... not defined)\n",
    "\n",
    "# 0) Install deps if missing\n",
    "try:\n",
    "    import transformers  # noqa\n",
    "except Exception:\n",
    "    !pip -q install transformers sentencepiece pandas\n",
    "\n",
    "import os, re, json, pandas as pd\n",
    "import torch\n",
    "from transformers import AutoTokenizer, AutoModelForSeq2SeqLM, pipeline\n",
    "\n",
    "# 1) Load a small, fast model (CPU/GPU)\n",
    "MODEL_NAME = \"google/flan-t5-small\"\n",
    "USE_GPU    = torch.cuda.is_available()\n",
    "DEVICE     = 0 if USE_GPU else -1\n",
    "\n",
    "try:\n",
    "    tokenizer = AutoTokenizer.from_pretrained(MODEL_NAME)\n",
    "    model = AutoModelForSeq2SeqLM.from_pretrained(\n",
    "        MODEL_NAME,\n",
    "        torch_dtype=(torch.float16 if USE_GPU else None),\n",
    "        low_cpu_mem_usage=True,\n",
    "    )\n",
    "    if USE_GPU:\n",
    "        model = model.to(\"cuda\")\n",
    "    ultra_gen = pipeline(\"text2text-generation\", model=model, tokenizer=tokenizer, device=DEVICE)\n",
    "    print(f\"✅ Model ready: {MODEL_NAME} | device: {'GPU' if USE_GPU else 'CPU'}\")\n",
    "except Exception as e:\n",
    "    raise RuntimeError(f\"Model load failed: {e}\")\n",
    "\n",
    "# 2) Core caller (safe across HF versions)\n",
    "def _u_call(inputs, max_new_tokens=64):\n",
    "    if isinstance(inputs, str):\n",
    "        inputs = [inputs]\n",
    "    out = ultra_gen(\n",
    "        inputs,\n",
    "        max_new_tokens=max_new_tokens,\n",
    "        do_sample=False,\n",
    "        temperature=0.0,\n",
    "        num_beams=1,\n",
    "        truncation=True,\n",
    "    )\n",
    "    return [o[\"generated_text\"].strip() for o in out]\n",
    "\n",
    "# 3) Ultra-fast generators (used by the UI)\n",
    "_json_tail = re.compile(r\"\\{.*\\}\\s*$\", re.S)\n",
    "def _json_from_tail(text):\n",
    "    m = _json_tail.search(text)\n",
    "    if not m: return None\n",
    "    try: return json.loads(m.group(0))\n",
    "    except: return None\n",
    "\n",
    "def ultra_fast_generate_qa(topic, n=6):\n",
    "    prompt = (f\"Create {n} concise Q&A flashcards about '{topic}'. \"\n",
    "              'Return JSON ONLY: { \"cards\":[{\"type\":\"qa\",\"question\":\"...\",\"answer\":\"...\"}, ... ] }')\n",
    "    text = _u_call(prompt, max_new_tokens=96)[0]\n",
    "    js = _json_from_tail(text) or {\"cards\":[]}\n",
    "    cards = []\n",
    "    for it in js.get(\"cards\", [])[:n]:\n",
    "        q = (it.get(\"question\",\"\") or \"\").strip()\n",
    "        a = (it.get(\"answer\",\"\") or \"\").strip()\n",
    "        if q and a: cards.append({\"type\":\"qa\",\"question\":q,\"answer\":a})\n",
    "    while len(cards) < n:\n",
    "        i = len(cards)+1\n",
    "        cards.append({\"type\":\"qa\",\"question\":f\"What is {topic} ({i})?\",\"answer\":f\"Brief explanation of {topic}.\"})\n",
    "    return cards\n",
    "\n",
    "def ultra_fast_generate_mcq(topic, n=4):\n",
    "    prompt = (f\"Create {n} MCQs about '{topic}' (4 options, single correct). \"\n",
    "              'Return JSON ONLY: { \"cards\":[{\"type\":\"mcq\",\"question\":\"...\",\"options\":[\"A\",\"B\",\"C\",\"D\"],'\n",
    "              '\"answer\":\"A|B|C|D\",\"explanation\":\"...\"}, ... ] }')\n",
    "    text = _u_call(prompt, max_new_tokens=128)[0]\n",
    "    js = _json_from_tail(text) or {\"cards\":[]}\n",
    "    cards = []\n",
    "    for it in js.get(\"cards\", [])[:n]:\n",
    "        q = (it.get(\"question\",\"\") or \"\").strip()\n",
    "        opts = it.get(\"options\", [])\n",
    "        ans = (it.get(\"answer\",\"\") or \"\").strip()\n",
    "        exp = (it.get(\"explanation\",\"\") or \"\").strip()\n",
    "        if q and isinstance(opts, list) and len(opts)==4 and ans in [\"A\",\"B\",\"C\",\"D\"]:\n",
    "            idx = \"ABCD\".index(ans)\n",
    "            cards.append({\"type\":\"mcq\",\"question\":q,\"options\":opts,\"answer\":opts[idx],\n",
    "                          \"answer_letter\":ans,\"explanation\":exp})\n",
    "    while len(cards) < n:\n",
    "        cards.append({\"type\":\"mcq\",\"question\":f\"Which option best describes {topic}?\",\n",
    "                      \"options\":[\"Definition\",\"Unrelated term\",\"Dataset\",\"File format\"],\n",
    "                      \"answer\":\"Definition\",\"answer_letter\":\"A\",\"explanation\":\"Definition matches the concept.\"})\n",
    "    return cards\n",
    "\n",
    "def ultra_fast_generate_tf(topic, n=3):\n",
    "    prompt = (f\"Create {n} True/False flashcards about '{topic}'. \"\n",
    "              'Return JSON ONLY: { \"cards\":[{\"type\":\"tf\",\"statement\":\"...\",\"answer\":\"True|False\",\"explanation\":\"...\"}, ... ] }')\n",
    "    text = _u_call(prompt, max_new_tokens=96)[0]\n",
    "    js = _json_from_tail(text) or {\"cards\":[]}\n",
    "    cards = []\n",
    "    for it in js.get(\"cards\", [])[:n]:\n",
    "        s = (it.get(\"statement\",\"\") or \"\").strip()\n",
    "        ans = (it.get(\"answer\",\"True\") or \"True\").strip().title()\n",
    "        exp = (it.get(\"explanation\",\"\") or \"\").strip()\n",
    "        if s and ans in [\"True\",\"False\"]:\n",
    "            cards.append({\"type\":\"tf\",\"question\":s,\"answer\":ans,\"explanation\":exp})\n",
    "    while len(cards) < n:\n",
    "        cards.append({\"type\":\"tf\",\"question\":f\"{topic} is used in machine learning.\",\"answer\":\"True\",\"explanation\":\"General fact.\"})\n",
    "    return cards\n",
    "\n",
    "def ultra_fast_generate_deck(topic, n_qa=4, n_mcq=4, n_tf=3):\n",
    "    deck = []\n",
    "    if n_qa:  deck += ultra_fast_generate_qa(topic, n_qa)\n",
    "    if n_mcq: deck += ultra_fast_generate_mcq(topic, n_mcq)\n",
    "    if n_tf:  deck += ultra_fast_generate_tf(topic, n_tf)\n",
    "    return deck\n",
    "\n",
    "# 4) Legacy names so your old cells still work\n",
    "def generate_qa(topic, n):  return ultra_fast_generate_qa(topic, n)\n",
    "def generate_mcq(topic, n): return ultra_fast_generate_mcq(topic, n)\n",
    "def generate_tf(topic, n):  return ultra_fast_generate_tf(topic, n)\n",
    "def generate_deck(topic, n_qa=6, n_mcq=5, n_tf=4):\n",
    "    return ultra_fast_generate_deck(topic, n_qa=n_qa, n_mcq=n_mcq, n_tf=n_tf)\n",
    "\n",
    "# 5) Export helpers (define if missing)\n",
    "if \"export_csv\" not in globals():\n",
    "    EXPORT_DIR = \"flashcards_exports\"; os.makedirs(EXPORT_DIR, exist_ok=True)\n",
    "    def export_csv(deck, fname=\"flashcards.csv\"):\n",
    "        df = pd.DataFrame(deck); path = os.path.join(EXPORT_DIR, fname); df.to_csv(path, index=False); return path\n",
    "    def export_anki_tsv(deck, fname=\"anki_import.tsv\"):\n",
    "        lines = []\n",
    "        for c in deck:\n",
    "            front = c[\"question\"]\n",
    "            if c.get(\"type\")==\"mcq\" and c.get(\"options\"):\n",
    "                opts = \"<br>\".join([f\"{chr(65+i)}. {opt}\" for i,opt in enumerate(c[\"options\"])])\n",
    "                front = f\"{front}<br>{opts}\"\n",
    "            back = c.get(\"answer\",\"\")\n",
    "            if c.get(\"explanation\"): back += f\"<br><i>{c['explanation']}</i>\"\n",
    "            tags = c.get(\"type\",\"qa\")\n",
    "            lines.append(f\"{front}\\t{back}\\t{tags}\")\n",
    "        path = os.path.join(EXPORT_DIR, fname)\n",
    "        with open(path, \"w\", encoding=\"utf-8\") as f: f.write(\"\\n\".join(lines))\n",
    "        return path\n",
    "    def export_json(deck, fname=\"flashcards.json\"):\n",
    "        path = os.path.join(EXPORT_DIR, fname)\n",
    "        with open(path, \"w\", encoding=\"utf-8\") as f: json.dump(deck, f, ensure_ascii=False, indent=2)\n",
    "        return path\n",
    "    print(\"✅ Export helpers defined (CSV / TSV / JSON)\")\n",
    "\n",
    "# 6) Sanity report\n",
    "need = [\"ultra_gen\",\"_u_call\",\"ultra_fast_generate_qa\",\"ultra_fast_generate_mcq\",\"ultra_fast_generate_tf\",\n",
    "        \"ultra_fast_generate_deck\",\"generate_qa\",\"generate_mcq\",\"generate_tf\",\"generate_deck\",\n",
    "        \"export_csv\",\"export_anki_tsv\",\"export_json\"]\n",
    "print(\"\\nSanity check:\")\n",
    "for n in need:\n",
    "    print(f\" - {n:28}:\", \"OK\" if n in globals() else \"MISSING\")\n"
   ]
  },
  {
   "cell_type": "code",
   "execution_count": 17,
   "metadata": {
    "colab": {
     "base_uri": "https://localhost:8080/",
     "height": 546
    },
    "id": "PKzHzWrqYXPt",
    "outputId": "0246827c-48f9-4f3f-9e04-f1eac9565e83"
   },
   "outputs": [
    {
     "name": "stderr",
     "output_type": "stream",
     "text": [
      "The following generation flags are not valid and may be ignored: ['temperature']. Set `TRANSFORMERS_VERBOSITY=info` for more details.\n"
     ]
    },
    {
     "name": "stdout",
     "output_type": "stream",
     "text": [
      "✅ Generated 12 cards on: Neural Networks\n"
     ]
    },
    {
     "data": {
      "application/vnd.google.colaboratory.intrinsic+json": {
       "summary": "{\n  \"name\": \"display(df2\",\n  \"rows\": 10,\n  \"fields\": [\n    {\n      \"column\": \"type\",\n      \"properties\": {\n        \"dtype\": \"category\",\n        \"num_unique_values\": 3,\n        \"samples\": [\n          \"qa\",\n          \"mcq\",\n          \"tf\"\n        ],\n        \"semantic_type\": \"\",\n        \"description\": \"\"\n      }\n    },\n    {\n      \"column\": \"question\",\n      \"properties\": {\n        \"dtype\": \"string\",\n        \"num_unique_values\": 7,\n        \"samples\": [\n          \"What is Neural Networks (1)?\",\n          \"What is Neural Networks (2)?\",\n          \"Which option best describes Neural Networks?\"\n        ],\n        \"semantic_type\": \"\",\n        \"description\": \"\"\n      }\n    },\n    {\n      \"column\": \"answer\",\n      \"properties\": {\n        \"dtype\": \"category\",\n        \"num_unique_values\": 3,\n        \"samples\": [\n          \"Brief explanation of Neural Networks.\",\n          \"Definition\",\n          \"True\"\n        ],\n        \"semantic_type\": \"\",\n        \"description\": \"\"\n      }\n    },\n    {\n      \"column\": \"options\",\n      \"properties\": {\n        \"dtype\": \"object\",\n        \"semantic_type\": \"\",\n        \"description\": \"\"\n      }\n    },\n    {\n      \"column\": \"answer_letter\",\n      \"properties\": {\n        \"dtype\": \"category\",\n        \"num_unique_values\": 1,\n        \"samples\": [\n          \"A\"\n        ],\n        \"semantic_type\": \"\",\n        \"description\": \"\"\n      }\n    },\n    {\n      \"column\": \"explanation\",\n      \"properties\": {\n        \"dtype\": \"category\",\n        \"num_unique_values\": 2,\n        \"samples\": [\n          \"General fact.\"\n        ],\n        \"semantic_type\": \"\",\n        \"description\": \"\"\n      }\n    }\n  ]\n}",
       "type": "dataframe"
      },
      "text/html": [
       "\n",
       "  <div id=\"df-af28d240-0478-4bd4-9179-285ffb33f6d4\" class=\"colab-df-container\">\n",
       "    <div>\n",
       "<style scoped>\n",
       "    .dataframe tbody tr th:only-of-type {\n",
       "        vertical-align: middle;\n",
       "    }\n",
       "\n",
       "    .dataframe tbody tr th {\n",
       "        vertical-align: top;\n",
       "    }\n",
       "\n",
       "    .dataframe thead th {\n",
       "        text-align: right;\n",
       "    }\n",
       "</style>\n",
       "<table border=\"1\" class=\"dataframe\">\n",
       "  <thead>\n",
       "    <tr style=\"text-align: right;\">\n",
       "      <th></th>\n",
       "      <th>type</th>\n",
       "      <th>question</th>\n",
       "      <th>answer</th>\n",
       "      <th>options</th>\n",
       "      <th>answer_letter</th>\n",
       "      <th>explanation</th>\n",
       "    </tr>\n",
       "  </thead>\n",
       "  <tbody>\n",
       "    <tr>\n",
       "      <th>0</th>\n",
       "      <td>qa</td>\n",
       "      <td>What is Neural Networks (1)?</td>\n",
       "      <td>Brief explanation of Neural Networks.</td>\n",
       "      <td>NaN</td>\n",
       "      <td>NaN</td>\n",
       "      <td>NaN</td>\n",
       "    </tr>\n",
       "    <tr>\n",
       "      <th>1</th>\n",
       "      <td>qa</td>\n",
       "      <td>What is Neural Networks (2)?</td>\n",
       "      <td>Brief explanation of Neural Networks.</td>\n",
       "      <td>NaN</td>\n",
       "      <td>NaN</td>\n",
       "      <td>NaN</td>\n",
       "    </tr>\n",
       "    <tr>\n",
       "      <th>2</th>\n",
       "      <td>qa</td>\n",
       "      <td>What is Neural Networks (3)?</td>\n",
       "      <td>Brief explanation of Neural Networks.</td>\n",
       "      <td>NaN</td>\n",
       "      <td>NaN</td>\n",
       "      <td>NaN</td>\n",
       "    </tr>\n",
       "    <tr>\n",
       "      <th>3</th>\n",
       "      <td>qa</td>\n",
       "      <td>What is Neural Networks (4)?</td>\n",
       "      <td>Brief explanation of Neural Networks.</td>\n",
       "      <td>NaN</td>\n",
       "      <td>NaN</td>\n",
       "      <td>NaN</td>\n",
       "    </tr>\n",
       "    <tr>\n",
       "      <th>4</th>\n",
       "      <td>qa</td>\n",
       "      <td>What is Neural Networks (5)?</td>\n",
       "      <td>Brief explanation of Neural Networks.</td>\n",
       "      <td>NaN</td>\n",
       "      <td>NaN</td>\n",
       "      <td>NaN</td>\n",
       "    </tr>\n",
       "    <tr>\n",
       "      <th>5</th>\n",
       "      <td>mcq</td>\n",
       "      <td>Which option best describes Neural Networks?</td>\n",
       "      <td>Definition</td>\n",
       "      <td>[Definition, Unrelated term, Dataset, File for...</td>\n",
       "      <td>A</td>\n",
       "      <td>Definition matches the concept.</td>\n",
       "    </tr>\n",
       "    <tr>\n",
       "      <th>6</th>\n",
       "      <td>mcq</td>\n",
       "      <td>Which option best describes Neural Networks?</td>\n",
       "      <td>Definition</td>\n",
       "      <td>[Definition, Unrelated term, Dataset, File for...</td>\n",
       "      <td>A</td>\n",
       "      <td>Definition matches the concept.</td>\n",
       "    </tr>\n",
       "    <tr>\n",
       "      <th>7</th>\n",
       "      <td>mcq</td>\n",
       "      <td>Which option best describes Neural Networks?</td>\n",
       "      <td>Definition</td>\n",
       "      <td>[Definition, Unrelated term, Dataset, File for...</td>\n",
       "      <td>A</td>\n",
       "      <td>Definition matches the concept.</td>\n",
       "    </tr>\n",
       "    <tr>\n",
       "      <th>8</th>\n",
       "      <td>mcq</td>\n",
       "      <td>Which option best describes Neural Networks?</td>\n",
       "      <td>Definition</td>\n",
       "      <td>[Definition, Unrelated term, Dataset, File for...</td>\n",
       "      <td>A</td>\n",
       "      <td>Definition matches the concept.</td>\n",
       "    </tr>\n",
       "    <tr>\n",
       "      <th>9</th>\n",
       "      <td>tf</td>\n",
       "      <td>Neural Networks is used in machine learning.</td>\n",
       "      <td>True</td>\n",
       "      <td>NaN</td>\n",
       "      <td>NaN</td>\n",
       "      <td>General fact.</td>\n",
       "    </tr>\n",
       "  </tbody>\n",
       "</table>\n",
       "</div>\n",
       "    <div class=\"colab-df-buttons\">\n",
       "\n",
       "  <div class=\"colab-df-container\">\n",
       "    <button class=\"colab-df-convert\" onclick=\"convertToInteractive('df-af28d240-0478-4bd4-9179-285ffb33f6d4')\"\n",
       "            title=\"Convert this dataframe to an interactive table.\"\n",
       "            style=\"display:none;\">\n",
       "\n",
       "  <svg xmlns=\"http://www.w3.org/2000/svg\" height=\"24px\" viewBox=\"0 -960 960 960\">\n",
       "    <path d=\"M120-120v-720h720v720H120Zm60-500h600v-160H180v160Zm220 220h160v-160H400v160Zm0 220h160v-160H400v160ZM180-400h160v-160H180v160Zm440 0h160v-160H620v160ZM180-180h160v-160H180v160Zm440 0h160v-160H620v160Z\"/>\n",
       "  </svg>\n",
       "    </button>\n",
       "\n",
       "  <style>\n",
       "    .colab-df-container {\n",
       "      display:flex;\n",
       "      gap: 12px;\n",
       "    }\n",
       "\n",
       "    .colab-df-convert {\n",
       "      background-color: #E8F0FE;\n",
       "      border: none;\n",
       "      border-radius: 50%;\n",
       "      cursor: pointer;\n",
       "      display: none;\n",
       "      fill: #1967D2;\n",
       "      height: 32px;\n",
       "      padding: 0 0 0 0;\n",
       "      width: 32px;\n",
       "    }\n",
       "\n",
       "    .colab-df-convert:hover {\n",
       "      background-color: #E2EBFA;\n",
       "      box-shadow: 0px 1px 2px rgba(60, 64, 67, 0.3), 0px 1px 3px 1px rgba(60, 64, 67, 0.15);\n",
       "      fill: #174EA6;\n",
       "    }\n",
       "\n",
       "    .colab-df-buttons div {\n",
       "      margin-bottom: 4px;\n",
       "    }\n",
       "\n",
       "    [theme=dark] .colab-df-convert {\n",
       "      background-color: #3B4455;\n",
       "      fill: #D2E3FC;\n",
       "    }\n",
       "\n",
       "    [theme=dark] .colab-df-convert:hover {\n",
       "      background-color: #434B5C;\n",
       "      box-shadow: 0px 1px 3px 1px rgba(0, 0, 0, 0.15);\n",
       "      filter: drop-shadow(0px 1px 2px rgba(0, 0, 0, 0.3));\n",
       "      fill: #FFFFFF;\n",
       "    }\n",
       "  </style>\n",
       "\n",
       "    <script>\n",
       "      const buttonEl =\n",
       "        document.querySelector('#df-af28d240-0478-4bd4-9179-285ffb33f6d4 button.colab-df-convert');\n",
       "      buttonEl.style.display =\n",
       "        google.colab.kernel.accessAllowed ? 'block' : 'none';\n",
       "\n",
       "      async function convertToInteractive(key) {\n",
       "        const element = document.querySelector('#df-af28d240-0478-4bd4-9179-285ffb33f6d4');\n",
       "        const dataTable =\n",
       "          await google.colab.kernel.invokeFunction('convertToInteractive',\n",
       "                                                    [key], {});\n",
       "        if (!dataTable) return;\n",
       "\n",
       "        const docLinkHtml = 'Like what you see? Visit the ' +\n",
       "          '<a target=\"_blank\" href=https://colab.research.google.com/notebooks/data_table.ipynb>data table notebook</a>'\n",
       "          + ' to learn more about interactive tables.';\n",
       "        element.innerHTML = '';\n",
       "        dataTable['output_type'] = 'display_data';\n",
       "        await google.colab.output.renderOutput(dataTable, element);\n",
       "        const docLink = document.createElement('div');\n",
       "        docLink.innerHTML = docLinkHtml;\n",
       "        element.appendChild(docLink);\n",
       "      }\n",
       "    </script>\n",
       "  </div>\n",
       "\n",
       "\n",
       "    <div id=\"df-bee0f085-0395-4e44-832a-0b253b85e852\">\n",
       "      <button class=\"colab-df-quickchart\" onclick=\"quickchart('df-bee0f085-0395-4e44-832a-0b253b85e852')\"\n",
       "                title=\"Suggest charts\"\n",
       "                style=\"display:none;\">\n",
       "\n",
       "<svg xmlns=\"http://www.w3.org/2000/svg\" height=\"24px\"viewBox=\"0 0 24 24\"\n",
       "     width=\"24px\">\n",
       "    <g>\n",
       "        <path d=\"M19 3H5c-1.1 0-2 .9-2 2v14c0 1.1.9 2 2 2h14c1.1 0 2-.9 2-2V5c0-1.1-.9-2-2-2zM9 17H7v-7h2v7zm4 0h-2V7h2v10zm4 0h-2v-4h2v4z\"/>\n",
       "    </g>\n",
       "</svg>\n",
       "      </button>\n",
       "\n",
       "<style>\n",
       "  .colab-df-quickchart {\n",
       "      --bg-color: #E8F0FE;\n",
       "      --fill-color: #1967D2;\n",
       "      --hover-bg-color: #E2EBFA;\n",
       "      --hover-fill-color: #174EA6;\n",
       "      --disabled-fill-color: #AAA;\n",
       "      --disabled-bg-color: #DDD;\n",
       "  }\n",
       "\n",
       "  [theme=dark] .colab-df-quickchart {\n",
       "      --bg-color: #3B4455;\n",
       "      --fill-color: #D2E3FC;\n",
       "      --hover-bg-color: #434B5C;\n",
       "      --hover-fill-color: #FFFFFF;\n",
       "      --disabled-bg-color: #3B4455;\n",
       "      --disabled-fill-color: #666;\n",
       "  }\n",
       "\n",
       "  .colab-df-quickchart {\n",
       "    background-color: var(--bg-color);\n",
       "    border: none;\n",
       "    border-radius: 50%;\n",
       "    cursor: pointer;\n",
       "    display: none;\n",
       "    fill: var(--fill-color);\n",
       "    height: 32px;\n",
       "    padding: 0;\n",
       "    width: 32px;\n",
       "  }\n",
       "\n",
       "  .colab-df-quickchart:hover {\n",
       "    background-color: var(--hover-bg-color);\n",
       "    box-shadow: 0 1px 2px rgba(60, 64, 67, 0.3), 0 1px 3px 1px rgba(60, 64, 67, 0.15);\n",
       "    fill: var(--button-hover-fill-color);\n",
       "  }\n",
       "\n",
       "  .colab-df-quickchart-complete:disabled,\n",
       "  .colab-df-quickchart-complete:disabled:hover {\n",
       "    background-color: var(--disabled-bg-color);\n",
       "    fill: var(--disabled-fill-color);\n",
       "    box-shadow: none;\n",
       "  }\n",
       "\n",
       "  .colab-df-spinner {\n",
       "    border: 2px solid var(--fill-color);\n",
       "    border-color: transparent;\n",
       "    border-bottom-color: var(--fill-color);\n",
       "    animation:\n",
       "      spin 1s steps(1) infinite;\n",
       "  }\n",
       "\n",
       "  @keyframes spin {\n",
       "    0% {\n",
       "      border-color: transparent;\n",
       "      border-bottom-color: var(--fill-color);\n",
       "      border-left-color: var(--fill-color);\n",
       "    }\n",
       "    20% {\n",
       "      border-color: transparent;\n",
       "      border-left-color: var(--fill-color);\n",
       "      border-top-color: var(--fill-color);\n",
       "    }\n",
       "    30% {\n",
       "      border-color: transparent;\n",
       "      border-left-color: var(--fill-color);\n",
       "      border-top-color: var(--fill-color);\n",
       "      border-right-color: var(--fill-color);\n",
       "    }\n",
       "    40% {\n",
       "      border-color: transparent;\n",
       "      border-right-color: var(--fill-color);\n",
       "      border-top-color: var(--fill-color);\n",
       "    }\n",
       "    60% {\n",
       "      border-color: transparent;\n",
       "      border-right-color: var(--fill-color);\n",
       "    }\n",
       "    80% {\n",
       "      border-color: transparent;\n",
       "      border-right-color: var(--fill-color);\n",
       "      border-bottom-color: var(--fill-color);\n",
       "    }\n",
       "    90% {\n",
       "      border-color: transparent;\n",
       "      border-bottom-color: var(--fill-color);\n",
       "    }\n",
       "  }\n",
       "</style>\n",
       "\n",
       "      <script>\n",
       "        async function quickchart(key) {\n",
       "          const quickchartButtonEl =\n",
       "            document.querySelector('#' + key + ' button');\n",
       "          quickchartButtonEl.disabled = true;  // To prevent multiple clicks.\n",
       "          quickchartButtonEl.classList.add('colab-df-spinner');\n",
       "          try {\n",
       "            const charts = await google.colab.kernel.invokeFunction(\n",
       "                'suggestCharts', [key], {});\n",
       "          } catch (error) {\n",
       "            console.error('Error during call to suggestCharts:', error);\n",
       "          }\n",
       "          quickchartButtonEl.classList.remove('colab-df-spinner');\n",
       "          quickchartButtonEl.classList.add('colab-df-quickchart-complete');\n",
       "        }\n",
       "        (() => {\n",
       "          let quickchartButtonEl =\n",
       "            document.querySelector('#df-bee0f085-0395-4e44-832a-0b253b85e852 button');\n",
       "          quickchartButtonEl.style.display =\n",
       "            google.colab.kernel.accessAllowed ? 'block' : 'none';\n",
       "        })();\n",
       "      </script>\n",
       "    </div>\n",
       "\n",
       "    </div>\n",
       "  </div>\n"
      ],
      "text/plain": [
       "  type                                      question  \\\n",
       "0   qa                  What is Neural Networks (1)?   \n",
       "1   qa                  What is Neural Networks (2)?   \n",
       "2   qa                  What is Neural Networks (3)?   \n",
       "3   qa                  What is Neural Networks (4)?   \n",
       "4   qa                  What is Neural Networks (5)?   \n",
       "5  mcq  Which option best describes Neural Networks?   \n",
       "6  mcq  Which option best describes Neural Networks?   \n",
       "7  mcq  Which option best describes Neural Networks?   \n",
       "8  mcq  Which option best describes Neural Networks?   \n",
       "9   tf  Neural Networks is used in machine learning.   \n",
       "\n",
       "                                  answer  \\\n",
       "0  Brief explanation of Neural Networks.   \n",
       "1  Brief explanation of Neural Networks.   \n",
       "2  Brief explanation of Neural Networks.   \n",
       "3  Brief explanation of Neural Networks.   \n",
       "4  Brief explanation of Neural Networks.   \n",
       "5                             Definition   \n",
       "6                             Definition   \n",
       "7                             Definition   \n",
       "8                             Definition   \n",
       "9                                   True   \n",
       "\n",
       "                                             options answer_letter  \\\n",
       "0                                                NaN           NaN   \n",
       "1                                                NaN           NaN   \n",
       "2                                                NaN           NaN   \n",
       "3                                                NaN           NaN   \n",
       "4                                                NaN           NaN   \n",
       "5  [Definition, Unrelated term, Dataset, File for...             A   \n",
       "6  [Definition, Unrelated term, Dataset, File for...             A   \n",
       "7  [Definition, Unrelated term, Dataset, File for...             A   \n",
       "8  [Definition, Unrelated term, Dataset, File for...             A   \n",
       "9                                                NaN           NaN   \n",
       "\n",
       "                       explanation  \n",
       "0                              NaN  \n",
       "1                              NaN  \n",
       "2                              NaN  \n",
       "3                              NaN  \n",
       "4                              NaN  \n",
       "5  Definition matches the concept.  \n",
       "6  Definition matches the concept.  \n",
       "7  Definition matches the concept.  \n",
       "8  Definition matches the concept.  \n",
       "9                    General fact.  "
      ]
     },
     "metadata": {},
     "output_type": "display_data"
    }
   ],
   "source": [
    "# 8b: Generate Deck for Neural Networks\n",
    "topic2 = \"Neural Networks\"\n",
    "deck2 = generate_deck(topic2, n_qa=5, n_mcq=4, n_tf=3)\n",
    "\n",
    "print(f\"✅ Generated {len(deck2)} cards on: {topic2}\")\n",
    "\n",
    "# Show first few flashcards\n",
    "df2 = pd.DataFrame(deck2)\n",
    "display(df2.head(10))\n"
   ]
  },
  {
   "cell_type": "code",
   "execution_count": 18,
   "metadata": {
    "colab": {
     "base_uri": "https://localhost:8080/"
    },
    "id": "KmXVGTyxYbZa",
    "outputId": "759ab6db-077c-42f8-ea41-baa14cdb231b"
   },
   "outputs": [
    {
     "name": "stdout",
     "output_type": "stream",
     "text": [
      "\n",
      "--- Card 1 | QA ---\n",
      "Q: What is Neural Networks (1)?\n",
      "Your answer: some guess\n",
      "Correct?  ❌\n",
      "Expected: Brief explanation of Neural Networks.\n",
      "\n",
      "--- Card 2 | QA ---\n",
      "Q: What is Neural Networks (2)?\n",
      "Your answer: some guess\n",
      "Correct?  ❌\n",
      "Expected: Brief explanation of Neural Networks.\n",
      "\n",
      "--- Card 3 | QA ---\n",
      "Q: What is Neural Networks (3)?\n",
      "Your answer: some guess\n",
      "Correct?  ❌\n",
      "Expected: Brief explanation of Neural Networks.\n"
     ]
    }
   ],
   "source": [
    "# 8c: Quick Quiz\n",
    "for idx in range(1, 4):\n",
    "    card = deck2[idx-1]\n",
    "    pretty_print_card(idx, card)\n",
    "\n",
    "    # simulate a guess (you can replace with your own input)\n",
    "    guess = \"A\" if card[\"type\"]==\"mcq\" else (\"True\" if card[\"type\"]==\"tf\" else \"some guess\")\n",
    "    res = quiz_one(card, guess)\n",
    "\n",
    "    print(\"Your answer:\", guess)\n",
    "    print(\"Correct? \", \"✅\" if res[\"correct\"] else \"❌\")\n",
    "    print(\"Expected:\", res[\"expected\"])\n",
    "    if res.get(\"explanation\"):\n",
    "        print(\"Why:     \", res[\"explanation\"])\n"
   ]
  },
  {
   "cell_type": "code",
   "execution_count": 19,
   "metadata": {
    "colab": {
     "base_uri": "https://localhost:8080/"
    },
    "id": "h2cpgEJAYqma",
    "outputId": "30d88bdf-0b88-465c-a1c8-cbc2edf4c7fa"
   },
   "outputs": [
    {
     "name": "stdout",
     "output_type": "stream",
     "text": [
      "\n",
      "📦 Exported files:\n",
      "CSV:  flashcards_exports/neural_networks_flashcards.csv\n",
      "TSV:  flashcards_exports/neural_networks_anki.tsv  (import into Anki via 'File -> Import')\n",
      "JSON: flashcards_exports/neural_networks_flashcards.json\n"
     ]
    }
   ],
   "source": [
    "# 8d: Export Flashcards\n",
    "EXPORT_DIR = \"flashcards_exports\"\n",
    "os.makedirs(EXPORT_DIR, exist_ok=True)\n",
    "\n",
    "csv_path  = export_csv(deck2,  \"neural_networks_flashcards.csv\")\n",
    "tsv_path  = export_anki_tsv(deck2, \"neural_networks_anki.tsv\")\n",
    "json_path = export_json(deck2, \"neural_networks_flashcards.json\")\n",
    "\n",
    "print(\"\\n📦 Exported files:\")\n",
    "print(\"CSV: \", csv_path)\n",
    "print(\"TSV: \", tsv_path, \" (import into Anki via 'File -> Import')\")\n",
    "print(\"JSON:\", json_path)\n",
    "\n",
    "\n"
   ]
  },
  {
   "cell_type": "code",
   "execution_count": 20,
   "metadata": {
    "colab": {
     "base_uri": "https://localhost:8080/",
     "height": 999
    },
    "id": "P_KbdFIyZa-b",
    "outputId": "b2d7310d-f05d-4176-a41c-f8f1f5c89001"
   },
   "outputs": [
    {
     "name": "stdout",
     "output_type": "stream",
     "text": [
      "✅ Generated 12 cards on: Support Vector Machines\n"
     ]
    },
    {
     "data": {
      "application/vnd.google.colaboratory.intrinsic+json": {
       "summary": "{\n  \"name\": \"_ = run_topic(\\\"Support Vector Machines\\\", n_qa=5, n_mcq=4, n_tf=3)\",\n  \"rows\": 12,\n  \"fields\": [\n    {\n      \"column\": \"type\",\n      \"properties\": {\n        \"dtype\": \"category\",\n        \"num_unique_values\": 3,\n        \"samples\": [\n          \"qa\",\n          \"mcq\",\n          \"tf\"\n        ],\n        \"semantic_type\": \"\",\n        \"description\": \"\"\n      }\n    },\n    {\n      \"column\": \"question\",\n      \"properties\": {\n        \"dtype\": \"string\",\n        \"num_unique_values\": 7,\n        \"samples\": [\n          \"What is Support Vector Machines (1)?\",\n          \"What is Support Vector Machines (2)?\",\n          \"Which option best describes Support Vector Machines?\"\n        ],\n        \"semantic_type\": \"\",\n        \"description\": \"\"\n      }\n    },\n    {\n      \"column\": \"answer\",\n      \"properties\": {\n        \"dtype\": \"category\",\n        \"num_unique_values\": 3,\n        \"samples\": [\n          \"Brief explanation of Support Vector Machines.\",\n          \"Definition\",\n          \"True\"\n        ],\n        \"semantic_type\": \"\",\n        \"description\": \"\"\n      }\n    },\n    {\n      \"column\": \"options\",\n      \"properties\": {\n        \"dtype\": \"object\",\n        \"semantic_type\": \"\",\n        \"description\": \"\"\n      }\n    },\n    {\n      \"column\": \"answer_letter\",\n      \"properties\": {\n        \"dtype\": \"category\",\n        \"num_unique_values\": 1,\n        \"samples\": [\n          \"A\"\n        ],\n        \"semantic_type\": \"\",\n        \"description\": \"\"\n      }\n    },\n    {\n      \"column\": \"explanation\",\n      \"properties\": {\n        \"dtype\": \"category\",\n        \"num_unique_values\": 2,\n        \"samples\": [\n          \"General fact.\"\n        ],\n        \"semantic_type\": \"\",\n        \"description\": \"\"\n      }\n    }\n  ]\n}",
       "type": "dataframe"
      },
      "text/html": [
       "\n",
       "  <div id=\"df-dd45c7ca-4bb0-49d7-b23d-397a8abbc26e\" class=\"colab-df-container\">\n",
       "    <div>\n",
       "<style scoped>\n",
       "    .dataframe tbody tr th:only-of-type {\n",
       "        vertical-align: middle;\n",
       "    }\n",
       "\n",
       "    .dataframe tbody tr th {\n",
       "        vertical-align: top;\n",
       "    }\n",
       "\n",
       "    .dataframe thead th {\n",
       "        text-align: right;\n",
       "    }\n",
       "</style>\n",
       "<table border=\"1\" class=\"dataframe\">\n",
       "  <thead>\n",
       "    <tr style=\"text-align: right;\">\n",
       "      <th></th>\n",
       "      <th>type</th>\n",
       "      <th>question</th>\n",
       "      <th>answer</th>\n",
       "      <th>options</th>\n",
       "      <th>answer_letter</th>\n",
       "      <th>explanation</th>\n",
       "    </tr>\n",
       "  </thead>\n",
       "  <tbody>\n",
       "    <tr>\n",
       "      <th>0</th>\n",
       "      <td>qa</td>\n",
       "      <td>What is Support Vector Machines (1)?</td>\n",
       "      <td>Brief explanation of Support Vector Machines.</td>\n",
       "      <td>NaN</td>\n",
       "      <td>NaN</td>\n",
       "      <td>NaN</td>\n",
       "    </tr>\n",
       "    <tr>\n",
       "      <th>1</th>\n",
       "      <td>qa</td>\n",
       "      <td>What is Support Vector Machines (2)?</td>\n",
       "      <td>Brief explanation of Support Vector Machines.</td>\n",
       "      <td>NaN</td>\n",
       "      <td>NaN</td>\n",
       "      <td>NaN</td>\n",
       "    </tr>\n",
       "    <tr>\n",
       "      <th>2</th>\n",
       "      <td>qa</td>\n",
       "      <td>What is Support Vector Machines (3)?</td>\n",
       "      <td>Brief explanation of Support Vector Machines.</td>\n",
       "      <td>NaN</td>\n",
       "      <td>NaN</td>\n",
       "      <td>NaN</td>\n",
       "    </tr>\n",
       "    <tr>\n",
       "      <th>3</th>\n",
       "      <td>qa</td>\n",
       "      <td>What is Support Vector Machines (4)?</td>\n",
       "      <td>Brief explanation of Support Vector Machines.</td>\n",
       "      <td>NaN</td>\n",
       "      <td>NaN</td>\n",
       "      <td>NaN</td>\n",
       "    </tr>\n",
       "    <tr>\n",
       "      <th>4</th>\n",
       "      <td>qa</td>\n",
       "      <td>What is Support Vector Machines (5)?</td>\n",
       "      <td>Brief explanation of Support Vector Machines.</td>\n",
       "      <td>NaN</td>\n",
       "      <td>NaN</td>\n",
       "      <td>NaN</td>\n",
       "    </tr>\n",
       "    <tr>\n",
       "      <th>5</th>\n",
       "      <td>mcq</td>\n",
       "      <td>Which option best describes Support Vector Mac...</td>\n",
       "      <td>Definition</td>\n",
       "      <td>[Definition, Unrelated term, Dataset, File for...</td>\n",
       "      <td>A</td>\n",
       "      <td>Definition matches the concept.</td>\n",
       "    </tr>\n",
       "    <tr>\n",
       "      <th>6</th>\n",
       "      <td>mcq</td>\n",
       "      <td>Which option best describes Support Vector Mac...</td>\n",
       "      <td>Definition</td>\n",
       "      <td>[Definition, Unrelated term, Dataset, File for...</td>\n",
       "      <td>A</td>\n",
       "      <td>Definition matches the concept.</td>\n",
       "    </tr>\n",
       "    <tr>\n",
       "      <th>7</th>\n",
       "      <td>mcq</td>\n",
       "      <td>Which option best describes Support Vector Mac...</td>\n",
       "      <td>Definition</td>\n",
       "      <td>[Definition, Unrelated term, Dataset, File for...</td>\n",
       "      <td>A</td>\n",
       "      <td>Definition matches the concept.</td>\n",
       "    </tr>\n",
       "    <tr>\n",
       "      <th>8</th>\n",
       "      <td>mcq</td>\n",
       "      <td>Which option best describes Support Vector Mac...</td>\n",
       "      <td>Definition</td>\n",
       "      <td>[Definition, Unrelated term, Dataset, File for...</td>\n",
       "      <td>A</td>\n",
       "      <td>Definition matches the concept.</td>\n",
       "    </tr>\n",
       "    <tr>\n",
       "      <th>9</th>\n",
       "      <td>tf</td>\n",
       "      <td>Support Vector Machines is used in machine lea...</td>\n",
       "      <td>True</td>\n",
       "      <td>NaN</td>\n",
       "      <td>NaN</td>\n",
       "      <td>General fact.</td>\n",
       "    </tr>\n",
       "    <tr>\n",
       "      <th>10</th>\n",
       "      <td>tf</td>\n",
       "      <td>Support Vector Machines is used in machine lea...</td>\n",
       "      <td>True</td>\n",
       "      <td>NaN</td>\n",
       "      <td>NaN</td>\n",
       "      <td>General fact.</td>\n",
       "    </tr>\n",
       "    <tr>\n",
       "      <th>11</th>\n",
       "      <td>tf</td>\n",
       "      <td>Support Vector Machines is used in machine lea...</td>\n",
       "      <td>True</td>\n",
       "      <td>NaN</td>\n",
       "      <td>NaN</td>\n",
       "      <td>General fact.</td>\n",
       "    </tr>\n",
       "  </tbody>\n",
       "</table>\n",
       "</div>\n",
       "    <div class=\"colab-df-buttons\">\n",
       "\n",
       "  <div class=\"colab-df-container\">\n",
       "    <button class=\"colab-df-convert\" onclick=\"convertToInteractive('df-dd45c7ca-4bb0-49d7-b23d-397a8abbc26e')\"\n",
       "            title=\"Convert this dataframe to an interactive table.\"\n",
       "            style=\"display:none;\">\n",
       "\n",
       "  <svg xmlns=\"http://www.w3.org/2000/svg\" height=\"24px\" viewBox=\"0 -960 960 960\">\n",
       "    <path d=\"M120-120v-720h720v720H120Zm60-500h600v-160H180v160Zm220 220h160v-160H400v160Zm0 220h160v-160H400v160ZM180-400h160v-160H180v160Zm440 0h160v-160H620v160ZM180-180h160v-160H180v160Zm440 0h160v-160H620v160Z\"/>\n",
       "  </svg>\n",
       "    </button>\n",
       "\n",
       "  <style>\n",
       "    .colab-df-container {\n",
       "      display:flex;\n",
       "      gap: 12px;\n",
       "    }\n",
       "\n",
       "    .colab-df-convert {\n",
       "      background-color: #E8F0FE;\n",
       "      border: none;\n",
       "      border-radius: 50%;\n",
       "      cursor: pointer;\n",
       "      display: none;\n",
       "      fill: #1967D2;\n",
       "      height: 32px;\n",
       "      padding: 0 0 0 0;\n",
       "      width: 32px;\n",
       "    }\n",
       "\n",
       "    .colab-df-convert:hover {\n",
       "      background-color: #E2EBFA;\n",
       "      box-shadow: 0px 1px 2px rgba(60, 64, 67, 0.3), 0px 1px 3px 1px rgba(60, 64, 67, 0.15);\n",
       "      fill: #174EA6;\n",
       "    }\n",
       "\n",
       "    .colab-df-buttons div {\n",
       "      margin-bottom: 4px;\n",
       "    }\n",
       "\n",
       "    [theme=dark] .colab-df-convert {\n",
       "      background-color: #3B4455;\n",
       "      fill: #D2E3FC;\n",
       "    }\n",
       "\n",
       "    [theme=dark] .colab-df-convert:hover {\n",
       "      background-color: #434B5C;\n",
       "      box-shadow: 0px 1px 3px 1px rgba(0, 0, 0, 0.15);\n",
       "      filter: drop-shadow(0px 1px 2px rgba(0, 0, 0, 0.3));\n",
       "      fill: #FFFFFF;\n",
       "    }\n",
       "  </style>\n",
       "\n",
       "    <script>\n",
       "      const buttonEl =\n",
       "        document.querySelector('#df-dd45c7ca-4bb0-49d7-b23d-397a8abbc26e button.colab-df-convert');\n",
       "      buttonEl.style.display =\n",
       "        google.colab.kernel.accessAllowed ? 'block' : 'none';\n",
       "\n",
       "      async function convertToInteractive(key) {\n",
       "        const element = document.querySelector('#df-dd45c7ca-4bb0-49d7-b23d-397a8abbc26e');\n",
       "        const dataTable =\n",
       "          await google.colab.kernel.invokeFunction('convertToInteractive',\n",
       "                                                    [key], {});\n",
       "        if (!dataTable) return;\n",
       "\n",
       "        const docLinkHtml = 'Like what you see? Visit the ' +\n",
       "          '<a target=\"_blank\" href=https://colab.research.google.com/notebooks/data_table.ipynb>data table notebook</a>'\n",
       "          + ' to learn more about interactive tables.';\n",
       "        element.innerHTML = '';\n",
       "        dataTable['output_type'] = 'display_data';\n",
       "        await google.colab.output.renderOutput(dataTable, element);\n",
       "        const docLink = document.createElement('div');\n",
       "        docLink.innerHTML = docLinkHtml;\n",
       "        element.appendChild(docLink);\n",
       "      }\n",
       "    </script>\n",
       "  </div>\n",
       "\n",
       "\n",
       "    <div id=\"df-aa12b571-f6af-4386-a413-1a0cae8aaf00\">\n",
       "      <button class=\"colab-df-quickchart\" onclick=\"quickchart('df-aa12b571-f6af-4386-a413-1a0cae8aaf00')\"\n",
       "                title=\"Suggest charts\"\n",
       "                style=\"display:none;\">\n",
       "\n",
       "<svg xmlns=\"http://www.w3.org/2000/svg\" height=\"24px\"viewBox=\"0 0 24 24\"\n",
       "     width=\"24px\">\n",
       "    <g>\n",
       "        <path d=\"M19 3H5c-1.1 0-2 .9-2 2v14c0 1.1.9 2 2 2h14c1.1 0 2-.9 2-2V5c0-1.1-.9-2-2-2zM9 17H7v-7h2v7zm4 0h-2V7h2v10zm4 0h-2v-4h2v4z\"/>\n",
       "    </g>\n",
       "</svg>\n",
       "      </button>\n",
       "\n",
       "<style>\n",
       "  .colab-df-quickchart {\n",
       "      --bg-color: #E8F0FE;\n",
       "      --fill-color: #1967D2;\n",
       "      --hover-bg-color: #E2EBFA;\n",
       "      --hover-fill-color: #174EA6;\n",
       "      --disabled-fill-color: #AAA;\n",
       "      --disabled-bg-color: #DDD;\n",
       "  }\n",
       "\n",
       "  [theme=dark] .colab-df-quickchart {\n",
       "      --bg-color: #3B4455;\n",
       "      --fill-color: #D2E3FC;\n",
       "      --hover-bg-color: #434B5C;\n",
       "      --hover-fill-color: #FFFFFF;\n",
       "      --disabled-bg-color: #3B4455;\n",
       "      --disabled-fill-color: #666;\n",
       "  }\n",
       "\n",
       "  .colab-df-quickchart {\n",
       "    background-color: var(--bg-color);\n",
       "    border: none;\n",
       "    border-radius: 50%;\n",
       "    cursor: pointer;\n",
       "    display: none;\n",
       "    fill: var(--fill-color);\n",
       "    height: 32px;\n",
       "    padding: 0;\n",
       "    width: 32px;\n",
       "  }\n",
       "\n",
       "  .colab-df-quickchart:hover {\n",
       "    background-color: var(--hover-bg-color);\n",
       "    box-shadow: 0 1px 2px rgba(60, 64, 67, 0.3), 0 1px 3px 1px rgba(60, 64, 67, 0.15);\n",
       "    fill: var(--button-hover-fill-color);\n",
       "  }\n",
       "\n",
       "  .colab-df-quickchart-complete:disabled,\n",
       "  .colab-df-quickchart-complete:disabled:hover {\n",
       "    background-color: var(--disabled-bg-color);\n",
       "    fill: var(--disabled-fill-color);\n",
       "    box-shadow: none;\n",
       "  }\n",
       "\n",
       "  .colab-df-spinner {\n",
       "    border: 2px solid var(--fill-color);\n",
       "    border-color: transparent;\n",
       "    border-bottom-color: var(--fill-color);\n",
       "    animation:\n",
       "      spin 1s steps(1) infinite;\n",
       "  }\n",
       "\n",
       "  @keyframes spin {\n",
       "    0% {\n",
       "      border-color: transparent;\n",
       "      border-bottom-color: var(--fill-color);\n",
       "      border-left-color: var(--fill-color);\n",
       "    }\n",
       "    20% {\n",
       "      border-color: transparent;\n",
       "      border-left-color: var(--fill-color);\n",
       "      border-top-color: var(--fill-color);\n",
       "    }\n",
       "    30% {\n",
       "      border-color: transparent;\n",
       "      border-left-color: var(--fill-color);\n",
       "      border-top-color: var(--fill-color);\n",
       "      border-right-color: var(--fill-color);\n",
       "    }\n",
       "    40% {\n",
       "      border-color: transparent;\n",
       "      border-right-color: var(--fill-color);\n",
       "      border-top-color: var(--fill-color);\n",
       "    }\n",
       "    60% {\n",
       "      border-color: transparent;\n",
       "      border-right-color: var(--fill-color);\n",
       "    }\n",
       "    80% {\n",
       "      border-color: transparent;\n",
       "      border-right-color: var(--fill-color);\n",
       "      border-bottom-color: var(--fill-color);\n",
       "    }\n",
       "    90% {\n",
       "      border-color: transparent;\n",
       "      border-bottom-color: var(--fill-color);\n",
       "    }\n",
       "  }\n",
       "</style>\n",
       "\n",
       "      <script>\n",
       "        async function quickchart(key) {\n",
       "          const quickchartButtonEl =\n",
       "            document.querySelector('#' + key + ' button');\n",
       "          quickchartButtonEl.disabled = true;  // To prevent multiple clicks.\n",
       "          quickchartButtonEl.classList.add('colab-df-spinner');\n",
       "          try {\n",
       "            const charts = await google.colab.kernel.invokeFunction(\n",
       "                'suggestCharts', [key], {});\n",
       "          } catch (error) {\n",
       "            console.error('Error during call to suggestCharts:', error);\n",
       "          }\n",
       "          quickchartButtonEl.classList.remove('colab-df-spinner');\n",
       "          quickchartButtonEl.classList.add('colab-df-quickchart-complete');\n",
       "        }\n",
       "        (() => {\n",
       "          let quickchartButtonEl =\n",
       "            document.querySelector('#df-aa12b571-f6af-4386-a413-1a0cae8aaf00 button');\n",
       "          quickchartButtonEl.style.display =\n",
       "            google.colab.kernel.accessAllowed ? 'block' : 'none';\n",
       "        })();\n",
       "      </script>\n",
       "    </div>\n",
       "\n",
       "    </div>\n",
       "  </div>\n"
      ],
      "text/plain": [
       "   type                                           question  \\\n",
       "0    qa               What is Support Vector Machines (1)?   \n",
       "1    qa               What is Support Vector Machines (2)?   \n",
       "2    qa               What is Support Vector Machines (3)?   \n",
       "3    qa               What is Support Vector Machines (4)?   \n",
       "4    qa               What is Support Vector Machines (5)?   \n",
       "5   mcq  Which option best describes Support Vector Mac...   \n",
       "6   mcq  Which option best describes Support Vector Mac...   \n",
       "7   mcq  Which option best describes Support Vector Mac...   \n",
       "8   mcq  Which option best describes Support Vector Mac...   \n",
       "9    tf  Support Vector Machines is used in machine lea...   \n",
       "10   tf  Support Vector Machines is used in machine lea...   \n",
       "11   tf  Support Vector Machines is used in machine lea...   \n",
       "\n",
       "                                           answer  \\\n",
       "0   Brief explanation of Support Vector Machines.   \n",
       "1   Brief explanation of Support Vector Machines.   \n",
       "2   Brief explanation of Support Vector Machines.   \n",
       "3   Brief explanation of Support Vector Machines.   \n",
       "4   Brief explanation of Support Vector Machines.   \n",
       "5                                      Definition   \n",
       "6                                      Definition   \n",
       "7                                      Definition   \n",
       "8                                      Definition   \n",
       "9                                            True   \n",
       "10                                           True   \n",
       "11                                           True   \n",
       "\n",
       "                                              options answer_letter  \\\n",
       "0                                                 NaN           NaN   \n",
       "1                                                 NaN           NaN   \n",
       "2                                                 NaN           NaN   \n",
       "3                                                 NaN           NaN   \n",
       "4                                                 NaN           NaN   \n",
       "5   [Definition, Unrelated term, Dataset, File for...             A   \n",
       "6   [Definition, Unrelated term, Dataset, File for...             A   \n",
       "7   [Definition, Unrelated term, Dataset, File for...             A   \n",
       "8   [Definition, Unrelated term, Dataset, File for...             A   \n",
       "9                                                 NaN           NaN   \n",
       "10                                                NaN           NaN   \n",
       "11                                                NaN           NaN   \n",
       "\n",
       "                        explanation  \n",
       "0                               NaN  \n",
       "1                               NaN  \n",
       "2                               NaN  \n",
       "3                               NaN  \n",
       "4                               NaN  \n",
       "5   Definition matches the concept.  \n",
       "6   Definition matches the concept.  \n",
       "7   Definition matches the concept.  \n",
       "8   Definition matches the concept.  \n",
       "9                     General fact.  \n",
       "10                    General fact.  \n",
       "11                    General fact.  "
      ]
     },
     "metadata": {},
     "output_type": "display_data"
    },
    {
     "name": "stdout",
     "output_type": "stream",
     "text": [
      "\n",
      "--- Card 1 | QA ---\n",
      "Q: What is Support Vector Machines (1)?\n",
      "Your answer: some guess | ❌ | Expected: Brief explanation of Support Vector Machines.\n",
      "\n",
      "--- Card 2 | QA ---\n",
      "Q: What is Support Vector Machines (2)?\n",
      "Your answer: some guess | ❌ | Expected: Brief explanation of Support Vector Machines.\n",
      "\n",
      "--- Card 3 | QA ---\n",
      "Q: What is Support Vector Machines (3)?\n",
      "Your answer: some guess | ❌ | Expected: Brief explanation of Support Vector Machines.\n",
      "\n",
      "--- Card 4 | QA ---\n",
      "Q: What is Support Vector Machines (4)?\n",
      "Your answer: some guess | ❌ | Expected: Brief explanation of Support Vector Machines.\n",
      "\n",
      "📦 Exported files:\n",
      "CSV:  flashcards_exports/support_vector_machines.csv\n",
      "TSV:  flashcards_exports/support_vector_machines_anki.tsv  (import into Anki via 'File -> Import')\n",
      "JSON: flashcards_exports/support_vector_machines.json\n"
     ]
    }
   ],
   "source": [
    "# Cell 9: Any-Topic Runner\n",
    "# Enter any topic and counts; runs end-to-end.\n",
    "\n",
    "def run_topic(topic, n_qa=6, n_mcq=5, n_tf=4, export_prefix=None):\n",
    "    deck = generate_deck(topic, n_qa=n_qa, n_mcq=n_mcq, n_tf=n_tf)\n",
    "    print(f\"✅ Generated {len(deck)} cards on: {topic}\")\n",
    "    df = pd.DataFrame(deck)\n",
    "    display(df.head(12))\n",
    "\n",
    "    # Quick quiz preview on first 3\n",
    "    for idx in range(1, min(4, len(deck))+1):\n",
    "        card = deck[idx-1]\n",
    "        pretty_print_card(idx, card)\n",
    "        guess = \"A\" if card[\"type\"]==\"mcq\" else (\"True\" if card[\"type\"]==\"tf\" else \"some guess\")\n",
    "        res = quiz_one(card, guess)\n",
    "        print(\"Your answer:\", guess, \"|\", \"✅\" if res[\"correct\"] else \"❌\", \"| Expected:\", res[\"expected\"])\n",
    "        if res.get(\"explanation\"):\n",
    "            print(\"Why:\", res[\"explanation\"])\n",
    "\n",
    "    # Exports\n",
    "    prefix = export_prefix or re.sub(r\"[^a-z0-9]+\",\"_\", topic.lower()).strip(\"_\")\n",
    "    csv_path  = export_csv(deck,  f\"{prefix}.csv\")\n",
    "    tsv_path  = export_anki_tsv(deck, f\"{prefix}_anki.tsv\")\n",
    "    json_path = export_json(deck, f\"{prefix}.json\")\n",
    "    print(\"\\n📦 Exported files:\")\n",
    "    print(\"CSV: \", csv_path)\n",
    "    print(\"TSV: \", tsv_path, \" (import into Anki via 'File -> Import')\")\n",
    "    print(\"JSON:\", json_path)\n",
    "    return deck, (csv_path, tsv_path, json_path)\n",
    "\n",
    "_ = run_topic(\"Support Vector Machines\", n_qa=5, n_mcq=4, n_tf=3)\n"
   ]
  },
  {
   "cell_type": "code",
   "execution_count": 21,
   "metadata": {
    "colab": {
     "base_uri": "https://localhost:8080/"
    },
    "id": "vGPDF41UZouA",
    "outputId": "0df13241-d0fc-4da7-fbb7-57316149ab13"
   },
   "outputs": [
    {
     "name": "stdout",
     "output_type": "stream",
     "text": [
      "Mounted at /content/drive\n",
      "📁 Copied: /content/drive/MyDrive/ai_flashcards/support_vector_machines_anki.tsv\n",
      "📁 Copied: /content/drive/MyDrive/ai_flashcards/support_vector_machines.json\n",
      "📁 Copied: /content/drive/MyDrive/ai_flashcards/support_vector_machines.csv\n",
      "📁 Copied: /content/drive/MyDrive/ai_flashcards/neural_networks_flashcards.json\n",
      "📁 Copied: /content/drive/MyDrive/ai_flashcards/neural_networks_anki.tsv\n",
      "📁 Copied: /content/drive/MyDrive/ai_flashcards/neural_networks_flashcards.csv\n"
     ]
    }
   ],
   "source": [
    "# 10: Save Exports to Google Drive\n",
    "\n",
    "from pathlib import Path\n",
    "\n",
    "try:\n",
    "    from google.colab import drive\n",
    "    drive.mount('/content/drive', force_remount=True)\n",
    "    target = Path(\"/content/drive/MyDrive/ai_flashcards\")\n",
    "    target.mkdir(parents=True, exist_ok=True)\n",
    "\n",
    "    src = Path(\"flashcards_exports\")\n",
    "    for p in src.glob(\"*\"):\n",
    "        tp = target / p.name\n",
    "        tp.write_bytes(p.read_bytes())\n",
    "        print(\"📁 Copied:\", tp)\n",
    "except Exception as e:\n",
    "    print(\"Drive copy skipped:\", e)\n"
   ]
  },
  {
   "cell_type": "code",
   "execution_count": 22,
   "metadata": {
    "colab": {
     "base_uri": "https://localhost:8080/"
    },
    "id": "WndICqCgamfn",
    "outputId": "176b1fc8-dff4-40ff-c37e-f94eaf04bf48"
   },
   "outputs": [
    {
     "name": "stdout",
     "output_type": "stream",
     "text": [
      "Missing: None 🎉\n"
     ]
    }
   ],
   "source": [
    "# 11: Sanity Check & Quick Repair\n",
    "needed = [\n",
    "    \"generator\",\"generate_qa\",\"generate_mcq\",\"generate_tf\",\n",
    "    \"generate_deck\",\"quiz_one\",\"pretty_print_card\",\n",
    "    \"export_csv\",\"export_anki_tsv\",\"export_json\"\n",
    "]\n",
    "missing = [n for n in needed if n not in globals()]\n",
    "print(\"Missing:\", missing if missing else \"None 🎉\")\n",
    "\n",
    "# If anything's missing because of a runtime reset, re-run Cells 1–7 (and 8a) once.\n"
   ]
  },
  {
   "cell_type": "code",
   "execution_count": 23,
   "metadata": {
    "colab": {
     "base_uri": "https://localhost:8080/",
     "height": 1000
    },
    "id": "6jN0N2STa5XA",
    "outputId": "f2ea6123-767c-467f-bb46-56039d4bf252"
   },
   "outputs": [
    {
     "name": "stdout",
     "output_type": "stream",
     "text": [
      "Stats: {'count': 12, 'by_type': {'qa': 5, 'mcq': 4, 'tf': 3}, 'avg_q_words': 5.833333333333333, 'avg_a_words': 2.6666666666666665}\n"
     ]
    },
    {
     "data": {
      "image/png": "[encoded data removed]",
      "text/plain": [
       "<Figure size 640x480 with 1 Axes>"
      ]
     },
     "metadata": {},
     "output_type": "display_data"
    },
    {
     "data": {
      "image/png": "[encoded data removed]",
      "text/plain": [
       "<Figure size 640x480 with 1 Axes>"
      ]
     },
     "metadata": {},
     "output_type": "display_data"
    },
    {
     "data": {
      "image/png": "[encoded data removed]",
      "text/plain": [
       "<Figure size 640x480 with 1 Axes>"
      ]
     },
     "metadata": {},
     "output_type": "display_data"
    }
   ],
   "source": [
    "# 12: Analytics (plots + stats)\n",
    "import matplotlib.pyplot as plt\n",
    "import numpy as np\n",
    "\n",
    "def deck_stats(deck):\n",
    "    df = pd.DataFrame(deck)\n",
    "    counts_type = df['type'].value_counts().to_dict()\n",
    "    q_len = df['question'].apply(lambda s: len(str(s).split()))\n",
    "    a_len = df['answer'].apply(lambda s: len(str(s).split()))\n",
    "    return {\n",
    "        \"count\": len(deck),\n",
    "        \"by_type\": counts_type,\n",
    "        \"avg_q_words\": float(q_len.mean()),\n",
    "        \"avg_a_words\": float(a_len.mean())\n",
    "    }\n",
    "\n",
    "def plot_distribution(deck):\n",
    "    df = pd.DataFrame(deck)\n",
    "    # Type distribution\n",
    "    plt.figure()\n",
    "    df['type'].value_counts().plot(kind='bar', title='Flashcard Type Distribution')\n",
    "    plt.xlabel('Type'); plt.ylabel('Count')\n",
    "    plt.show()\n",
    "\n",
    "    # Question length histogram\n",
    "    plt.figure()\n",
    "    df['question'].apply(lambda s: len(str(s).split())).plot(kind='hist', bins=10, title='Question Length (words)')\n",
    "    plt.xlabel('Words'); plt.ylabel('Frequency')\n",
    "    plt.show()\n",
    "\n",
    "    # Answer length histogram\n",
    "    plt.figure()\n",
    "    df['answer'].apply(lambda s: len(str(s).split())).plot(kind='hist', bins=10, title='Answer Length (words)')\n",
    "    plt.xlabel('Words'); plt.ylabel('Frequency')\n",
    "    plt.show()\n",
    "\n",
    "# Example: run analytics on your latest deck (e.g., deck2 or the one from Cell 9)\n",
    "_which = 'deck2' if 'deck2' in globals() else None\n",
    "if _which:\n",
    "    print(\"Stats:\", deck_stats(deck2))\n",
    "    plot_distribution(deck2)\n",
    "else:\n",
    "    print(\"No deck named 'deck2' found. Run Cell 8b or 9 first, or call deck_stats(your_deck).\")\n"
   ]
  },
  {
   "cell_type": "code",
   "execution_count": 24,
   "metadata": {
    "colab": {
     "base_uri": "https://localhost:8080/"
    },
    "id": "05n0UhsKa9o5",
    "outputId": "9b8cebea-34da-40c4-dc2d-e03e2785cefb"
   },
   "outputs": [
    {
     "name": "stdout",
     "output_type": "stream",
     "text": [
      "Due now: 5 cards\n",
      "Updated SRS for 1 card; next due: 2025-09-30 23:50:15.981791\n"
     ]
    },
    {
     "name": "stderr",
     "output_type": "stream",
     "text": [
      "/tmp/ipython-input-396885522.py:13: DeprecationWarning: datetime.datetime.utcnow() is deprecated and scheduled for removal in a future version. Use timezone-aware objects to represent datetimes in UTC: datetime.datetime.now(datetime.UTC).\n",
      "  now = datetime.utcnow()\n",
      "/tmp/ipython-input-396885522.py:39: DeprecationWarning: datetime.datetime.utcnow() is deprecated and scheduled for removal in a future version. Use timezone-aware objects to represent datetimes in UTC: datetime.datetime.now(datetime.UTC).\n",
      "  now = datetime.utcnow()\n",
      "/tmp/ipython-input-396885522.py:35: DeprecationWarning: datetime.datetime.utcnow() is deprecated and scheduled for removal in a future version. Use timezone-aware objects to represent datetimes in UTC: datetime.datetime.now(datetime.UTC).\n",
      "  d[\"due\"] = datetime.utcnow() + timedelta(days=d[\"interval_days\"])\n"
     ]
    }
   ],
   "source": [
    "# 13: Spaced Repetition (SM-2-like)\n",
    "import time\n",
    "from datetime import datetime, timedelta\n",
    "\n",
    "# In-memory SRS store: card_id -> schedule\n",
    "SRS = {}\n",
    "\n",
    "def _card_id(card):\n",
    "    # Use question text as an id scaffold (ok for demo)\n",
    "    return str(abs(hash(card.get(\"type\",\"\") + \"|\" + card.get(\"question\",\"\"))))\n",
    "\n",
    "def srs_init_deck(deck):\n",
    "    now = datetime.utcnow()\n",
    "    for c in deck:\n",
    "        cid = _card_id(c)\n",
    "        if cid not in SRS:\n",
    "            SRS[cid] = {\"easiness\": 2.5, \"interval_days\": 0, \"repetitions\": 0, \"due\": now}\n",
    "\n",
    "def srs_update(cid, quality):\n",
    "    # quality: 0..5 (3+ counts as correct)\n",
    "    d = SRS[cid]\n",
    "    q = max(0, min(5, int(quality)))\n",
    "    if q >= 3:\n",
    "        d[\"repetitions\"] += 1\n",
    "        if d[\"repetitions\"] == 1:\n",
    "            d[\"interval_days\"] = 1\n",
    "        elif d[\"repetitions\"] == 2:\n",
    "            d[\"interval_days\"] = 6\n",
    "        else:\n",
    "            d[\"interval_days\"] = int(round(d[\"interval_days\"] * d[\"easiness\"]))\n",
    "    else:\n",
    "        d[\"repetitions\"] = 0\n",
    "        d[\"interval_days\"] = 1\n",
    "    d[\"easiness\"] = max(1.3, d[\"easiness\"] + (0.1 - (5 - q) * (0.08 + (5 - q) * 0.02)))\n",
    "    d[\"due\"] = datetime.utcnow() + timedelta(days=d[\"interval_days\"])\n",
    "\n",
    "def srs_due(deck, limit=10):\n",
    "    # Return due cards sorted by earliest due\n",
    "    now = datetime.utcnow()\n",
    "    items = []\n",
    "    for c in deck:\n",
    "        cid = _card_id(c)\n",
    "        if cid not in SRS: continue\n",
    "        if SRS[cid][\"due\"] <= now:\n",
    "            items.append((SRS[cid][\"due\"], c))\n",
    "    items.sort(key=lambda x: x[0])\n",
    "    return [c for _, c in items[:limit]]\n",
    "\n",
    "# Demo on deck2 if present\n",
    "if 'deck2' in globals():\n",
    "    srs_init_deck(deck2)\n",
    "    due = srs_due(deck2, limit=5)\n",
    "    print(f\"Due now: {len(due)} cards\")\n",
    "    if due:\n",
    "        # simulate grading first due card\n",
    "        first = due[0]\n",
    "        cid = _card_id(first)\n",
    "        srs_update(cid, quality=4)\n",
    "        print(\"Updated SRS for 1 card; next due:\", SRS[cid][\"due\"])\n",
    "else:\n",
    "    print(\"Run Cell 8b or 9 to create a deck, then re-run this cell.\")\n"
   ]
  },
  {
   "cell_type": "code",
   "execution_count": 25,
   "metadata": {
    "colab": {
     "base_uri": "https://localhost:8080/"
    },
    "id": "vFgUL58CbDAW",
    "outputId": "a698c5d5-d995-4bd9-a1c6-53bf2494d527"
   },
   "outputs": [
    {
     "name": "stdout",
     "output_type": "stream",
     "text": [
      "\u001b[?25l   \u001b[90m━━━━━━━━━━━━━━━━━━━━━━━━━━━━━━━━━━━━━━━━\u001b[0m \u001b[32m0.0/253.0 kB\u001b[0m \u001b[31m?\u001b[0m eta \u001b[36m-:--:--\u001b[0m\r",
      "\u001b[2K   \u001b[91m━━━━━━━━━━━━━━━━━━━━━━━━━━━━━━━━━━━━━━\u001b[0m\u001b[91m╸\u001b[0m\u001b[90m━\u001b[0m \u001b[32m245.8/253.0 kB\u001b[0m \u001b[31m15.1 MB/s\u001b[0m eta \u001b[36m0:00:01\u001b[0m\r",
      "\u001b[2K   \u001b[90m━━━━━━━━━━━━━━━━━━━━━━━━━━━━━━━━━━━━━━━━\u001b[0m \u001b[32m253.0/253.0 kB\u001b[0m \u001b[31m6.4 MB/s\u001b[0m eta \u001b[36m0:00:00\u001b[0m\n",
      "\u001b[?25hSaved: flashcards_exports/neural_networks_flashcards.docx\n"
     ]
    }
   ],
   "source": [
    "# 14: DOCX Export\n",
    "!pip -q install python-docx\n",
    "from docx import Document\n",
    "from docx.shared import Pt\n",
    "from pathlib import Path\n",
    "\n",
    "def export_docx(deck, fname=\"flashcards.docx\"):\n",
    "    Path(\"flashcards_exports\").mkdir(exist_ok=True)\n",
    "    path = Path(\"flashcards_exports\") / fname\n",
    "    doc = Document()\n",
    "    doc.add_heading(\"AI Flashcards\", level=1)\n",
    "    for i, c in enumerate(deck, 1):\n",
    "        doc.add_heading(f\"{i}. [{c.get('type','QA').upper()}]\", level=2)\n",
    "        doc.add_paragraph(f\"Q: {c.get('question','')}\")\n",
    "        if c.get(\"type\") == \"mcq\" and c.get(\"options\"):\n",
    "            for j, opt in enumerate(c[\"options\"]):\n",
    "                doc.add_paragraph(f\"{chr(65+j)}. {opt}\")\n",
    "        doc.add_paragraph(f\"A: {c.get('answer','')}\")\n",
    "        if c.get(\"explanation\"):\n",
    "            p = doc.add_paragraph(\"Why: \" + c[\"explanation\"])\n",
    "    doc.save(str(path))\n",
    "    return str(path)\n",
    "\n",
    "# Example:\n",
    "if 'deck2' in globals():\n",
    "    p = export_docx(deck2, \"neural_networks_flashcards.docx\")\n",
    "    print(\"Saved:\", p)\n",
    "else:\n",
    "    print(\"No deck2 found; export_docx(deck, 'name.docx') with your deck.\")\n"
   ]
  },
  {
   "cell_type": "code",
   "execution_count": 26,
   "metadata": {
    "colab": {
     "base_uri": "https://localhost:8080/",
     "height": 275,
     "referenced_widgets": [
      "ce45abc94ad945b294db460b61c2de55",
      "ab84943cdef34eca9711d4e6d044fcc5",
      "f0071f344ee1444589aa36d07673dce9",
      "baf53602d0b34991a059f01a17f68aba",
      "0a61dfe834b142289b080ed2869cf7c4",
      "d781ecdc86bd450d9bcae5afd4d3d268",
      "69fb8709f0764280901d454fec946a87",
      "99033d829b874b769832045b1cc0f25f",
      "33823163cb6643fab7149bf9980655d1",
      "e800e16deb6145d0bf18336c358d9254",
      "9ff6780052574d1bbd9b09aef2ac64d7",
      "dc8f155f875741fe8f22285d81c68deb",
      "f9a485c6d0174469aa75af11fe7b873f",
      "711e82ffc6314e9aa309999904c48d8f",
      "1f5e25f5ddcb4bb39213b15a5aca5d53",
      "722129ebe9f342b08ebd17f46e4c3280",
      "3f6b49eb093946fda3b5c15ac63a2a50",
      "3137e7aa72244fde861ec26f8d72a9de",
      "8b2ad40c8cb54b8faf4e636af63a7b38",
      "9dcb4607e04b4b1ba560b70177391ded",
      "05e0ed64c02344d88ad4e18e07c26f0d",
      "a398fbd5589647baaedab5930a371a24",
      "bf8db8612f494a2eab7ac75d2c209677",
      "034cf66c9a9e4c86aa0ed2e15b35ee48",
      "8c09fec208cd401ea02b6814a60ce39c",
      "8219ad0d547f4c1eb10c7e97e9f535bc",
      "85867941e68d4060b44189bf2599f163",
      "dc6cb04f148c46dc8c63f70bc5a72d66",
      "68b29173417342849e626ce5f26793fc",
      "7df22b3dbd154db49f6fab5e60d86cd1",
      "339477b587a042998bd54f056acdb911",
      "8071b474fb254d9a95d45012dcf559fb",
      "5f8c21bdf63d4f878e9a63cf480d4307",
      "631f8e2cce96492dbdc9a642eee5da9f",
      "bfcb48bb3a244a4bb0efb7bd213ea58f",
      "860c7a30b4344f1bb0c0d54e63072700",
      "144ff4f0dbd34528a6959216b987d1fb",
      "95081bb1f7674498ba39c71a759e1a19",
      "ecc4751c1e594e758b7f4d6af72f7101",
      "6d0a9c894cdc4d2e9ca707f7f9890b2f",
      "f24e7d8356e14ba4bfd0881394ba3731",
      "629f0be658d44cba83cdcf79550c58a6",
      "453bd777d2934fc59ce354b05290ae43",
      "4464d1085e924cafaccd60196d975959",
      "861a6403a29741bb970205e6478a2b97",
      "3b3ba87cc2d347ce9a4f928d104ac86c",
      "cc3bc028bdce4167b5cfdfdfa3a0b38f",
      "06259788224d4317929beea280d97384",
      "8c8623df9c2e446b952e4656e65e7bfd",
      "e9b38a1cadb646728d7f20f15b7a2f31",
      "db5a42615fef4965a9d7217367133e42",
      "c31ad9034d244873821a1420a64389e2",
      "62335e954d53448296bd851c4a2630ae",
      "d49d64eb078140ce96f2cbb1513c9206",
      "08079798f2264e92bb9a0b72594185b3",
      "35c8b77a8a2144bd962f2c8b7e5e55b3",
      "f18f0ee087cf46efb2676f194cf375c2",
      "0a7e78c9806b4950af5b67417e0d0996",
      "a298541b2fcc4f38bf279998ecbc77c0",
      "674c672c545745958c76b9771cc460ef",
      "52b757f5d25041a0b52e97727ea9e5f4",
      "9f8493c2a7ed49e3875978119247ae53",
      "370c3826478f41ffbee04c9878af5777",
      "647b85a90935435db03ff2f37480d199",
      "876594c2981b490788a4ff041b0ca5d8",
      "d8f86c9196144af284c36edf3741bc9a",
      "92d660b70d10433f9db6a083af81a404",
      "fa932f970c8e42e2b2c77431a3c3ae2c",
      "86c3b4a06add4edbbcc911cc0ef23613",
      "2df31ed9719b410582bce406a5d03e68",
      "37edee3dd2d44f17b773be9b8650849d",
      "a1adb2110b454a4398754c5422397553",
      "a0ab4518724546818a4eee5ca1b87ac3",
      "0b7f290c382c4c4d89b7b8aa794c91f0",
      "89472fc0891144ca851cfda1b3185262",
      "0127ad3141ac4bc1b6014e2867167d9c",
      "be2353ce959b430ba53f2bd308d1f422"
     ]
    },
    "id": "TUAGW_40hn8q",
    "outputId": "e17603a4-01f3-4eb9-cd3e-a1041dea61c1"
   },
   "outputs": [
    {
     "data": {
      "application/vnd.jupyter.widget-view+json": {
       "model_id": "ce45abc94ad945b294db460b61c2de55",
       "version_major": 2,
       "version_minor": 0
      },
      "text/plain": [
       "config.json: 0.00B [00:00, ?B/s]"
      ]
     },
     "metadata": {},
     "output_type": "display_data"
    },
    {
     "data": {
      "application/vnd.jupyter.widget-view+json": {
       "model_id": "dc8f155f875741fe8f22285d81c68deb",
       "version_major": 2,
       "version_minor": 0
      },
      "text/plain": [
       "model.safetensors:   0%|          | 0.00/990M [00:00<?, ?B/s]"
      ]
     },
     "metadata": {},
     "output_type": "display_data"
    },
    {
     "data": {
      "application/vnd.jupyter.widget-view+json": {
       "model_id": "bf8db8612f494a2eab7ac75d2c209677",
       "version_major": 2,
       "version_minor": 0
      },
      "text/plain": [
       "generation_config.json:   0%|          | 0.00/147 [00:00<?, ?B/s]"
      ]
     },
     "metadata": {},
     "output_type": "display_data"
    },
    {
     "data": {
      "application/vnd.jupyter.widget-view+json": {
       "model_id": "631f8e2cce96492dbdc9a642eee5da9f",
       "version_major": 2,
       "version_minor": 0
      },
      "text/plain": [
       "tokenizer_config.json: 0.00B [00:00, ?B/s]"
      ]
     },
     "metadata": {},
     "output_type": "display_data"
    },
    {
     "data": {
      "application/vnd.jupyter.widget-view+json": {
       "model_id": "861a6403a29741bb970205e6478a2b97",
       "version_major": 2,
       "version_minor": 0
      },
      "text/plain": [
       "spiece.model:   0%|          | 0.00/792k [00:00<?, ?B/s]"
      ]
     },
     "metadata": {},
     "output_type": "display_data"
    },
    {
     "data": {
      "application/vnd.jupyter.widget-view+json": {
       "model_id": "35c8b77a8a2144bd962f2c8b7e5e55b3",
       "version_major": 2,
       "version_minor": 0
      },
      "text/plain": [
       "tokenizer.json: 0.00B [00:00, ?B/s]"
      ]
     },
     "metadata": {},
     "output_type": "display_data"
    },
    {
     "data": {
      "application/vnd.jupyter.widget-view+json": {
       "model_id": "92d660b70d10433f9db6a083af81a404",
       "version_major": 2,
       "version_minor": 0
      },
      "text/plain": [
       "special_tokens_map.json: 0.00B [00:00, ?B/s]"
      ]
     },
     "metadata": {},
     "output_type": "display_data"
    },
    {
     "name": "stderr",
     "output_type": "stream",
     "text": [
      "Device set to use cpu\n"
     ]
    },
    {
     "name": "stdout",
     "output_type": "stream",
     "text": [
      "✅ FAST MODE ready. Model: google/flan-t5-base | device: CPU\n"
     ]
    }
   ],
   "source": [
    "# speed-optimized generator + batch creation\n",
    "!pip -q install transformers sentencepiece\n",
    "\n",
    "import re, json, os, pandas as pd\n",
    "from transformers import pipeline\n",
    "\n",
    "# 1) Load a smaller model on GPU if available\n",
    "MODEL_NAME = \"google/flan-t5-base\"   # try \"flan-t5-small\" for even faster\n",
    "DEVICE = 0 if os.environ.get(\"COLAB_GPU\") or os.path.exists(\"/proc/driver/nvidia/version\") else -1\n",
    "\n",
    "fast_gen = pipeline(\n",
    "    \"text2text-generation\",\n",
    "    model=MODEL_NAME,\n",
    "    device=DEVICE,\n",
    ")\n",
    "\n",
    "def _fast_call(prompt, max_new_tokens=96):\n",
    "    out = fast_gen(\n",
    "        prompt,\n",
    "        max_new_tokens=max_new_tokens,\n",
    "        do_sample=False,          # deterministic & faster\n",
    "        temperature=0.01,\n",
    "        num_return_sequences=1,\n",
    "        truncation=True,\n",
    "    )[0][\"generated_text\"]\n",
    "    return out.strip()\n",
    "\n",
    "# --- Batch builders (1 call per type) ---\n",
    "def fast_generate_qa_batch(topic, n=6):\n",
    "    prompt = (\n",
    "        f\"Create {n} concise Q&A study flashcards about '{topic}'. \"\n",
    "        \"Return JSON ONLY of the form:\\n\"\n",
    "        \"{ \\\"cards\\\": [ {\\\"type\\\":\\\"qa\\\",\\\"question\\\":\\\"...\\\",\\\"answer\\\":\\\"...\\\"}, ... ] }\"\n",
    "    )\n",
    "    text = _fast_call(prompt)\n",
    "    m = re.search(r\"\\{.*\\}\\s*$\", text, flags=re.S)\n",
    "    js = json.loads(m.group(0)) if m else {\"cards\":[]}\n",
    "    cards = []\n",
    "    for it in js.get(\"cards\", [])[:n]:\n",
    "        q = it.get(\"question\",\"\").strip()\n",
    "        a = it.get(\"answer\",\"\").strip()\n",
    "        if q and a:\n",
    "            cards.append({\"type\":\"qa\",\"question\":q,\"answer\":a})\n",
    "    # Fallback if parse failed\n",
    "    while len(cards) < n:\n",
    "        i = len(cards)+1\n",
    "        cards.append({\"type\":\"qa\",\"question\":f\"What is {topic} ({i})?\",\"answer\":f\"Brief explanation of {topic}.\"})\n",
    "    return cards\n",
    "\n",
    "def fast_generate_mcq_batch(topic, n=4):\n",
    "    prompt = (\n",
    "        f\"Create {n} 4-option MCQs about '{topic}'. Medium difficulty. \"\n",
    "        \"Return JSON ONLY:\\n\"\n",
    "        \"{ \\\"cards\\\": [ {\\\"type\\\":\\\"mcq\\\",\\\"question\\\":\\\"...\\\",\\\"options\\\":[\\\"A\\\",\\\"B\\\",\\\"C\\\",\\\"D\\\"],\"\n",
    "        \"\\\"answer\\\":\\\"A|B|C|D\\\",\\\"explanation\\\":\\\"...\\\"}, ... ] }\"\n",
    "    )\n",
    "    text = _fast_call(prompt)\n",
    "    m = re.search(r\"\\{.*\\}\\s*$\", text, flags=re.S)\n",
    "    js = json.loads(m.group(0)) if m else {\"cards\":[]}\n",
    "    cards = []\n",
    "    for it in js.get(\"cards\", [])[:n]:\n",
    "        q = it.get(\"question\",\"\").strip()\n",
    "        opts = it.get(\"options\", [])\n",
    "        ans = (it.get(\"answer\",\"\") or \"\").strip()\n",
    "        exp = (it.get(\"explanation\",\"\") or \"\").strip()\n",
    "        if q and isinstance(opts, list) and len(opts) == 4 and ans in [\"A\",\"B\",\"C\",\"D\"]:\n",
    "            idx = \"ABCD\".index(ans)\n",
    "            cards.append({\n",
    "                \"type\":\"mcq\",\n",
    "                \"question\":q,\n",
    "                \"options\":opts,\n",
    "                \"answer\":opts[idx],\n",
    "                \"answer_letter\":ans,\n",
    "                \"explanation\":exp\n",
    "            })\n",
    "    while len(cards) < n:\n",
    "        cards.append({\n",
    "            \"type\":\"mcq\",\n",
    "            \"question\": f\"Which option best describes {topic}?\",\n",
    "            \"options\": [\"Definition\", \"Unrelated term\", \"Dataset\", \"File format\"],\n",
    "            \"answer\": \"Definition\",\n",
    "            \"answer_letter\": \"A\",\n",
    "            \"explanation\": \"Definition matches the concept.\"\n",
    "        })\n",
    "    return cards\n",
    "\n",
    "def fast_generate_tf_batch(topic, n=3):\n",
    "    prompt = (\n",
    "        f\"Create {n} True/False flashcards about '{topic}'. \"\n",
    "        \"Return JSON ONLY:\\n\"\n",
    "        \"{ \\\"cards\\\": [ {\\\"type\\\":\\\"tf\\\",\\\"statement\\\":\\\"...\\\",\\\"answer\\\":\\\"True|False\\\",\\\"explanation\\\":\\\"...\\\"}, ... ] }\"\n",
    "    )\n",
    "    text = _fast_call(prompt)\n",
    "    m = re.search(r\"\\{.*\\}\\s*$\", text, flags=re.S)\n",
    "    js = json.loads(m.group(0)) if m else {\"cards\":[]}\n",
    "    cards = []\n",
    "    for it in js.get(\"cards\", [])[:n]:\n",
    "        s = it.get(\"statement\",\"\").strip()\n",
    "        ans = (it.get(\"answer\",\"True\") or \"True\").strip().title()\n",
    "        exp = (it.get(\"explanation\",\"\") or \"\").strip()\n",
    "        if s and ans in [\"True\",\"False\"]:\n",
    "            cards.append({\"type\":\"tf\",\"question\":s,\"answer\":ans,\"explanation\":exp})\n",
    "    while len(cards) < n:\n",
    "        cards.append({\"type\":\"tf\",\"question\":f\"{topic} is used in machine learning.\", \"answer\":\"True\", \"explanation\":\"General fact.\"})\n",
    "    return cards\n",
    "\n",
    "def fast_generate_deck(topic, n_qa=4, n_mcq=4, n_tf=3):\n",
    "    deck = []\n",
    "    if n_qa:  deck += fast_generate_qa_batch(topic, n_qa)\n",
    "    if n_mcq: deck += fast_generate_mcq_batch(topic, n_mcq)\n",
    "    if n_tf:  deck += fast_generate_tf_batch(topic, n_tf)\n",
    "    return deck\n",
    "\n",
    "print(\"✅ FAST MODE ready. Model:\", MODEL_NAME, \"| device:\", \"GPU\" if DEVICE==0 else \"CPU\")\n"
   ]
  },
  {
   "cell_type": "code",
   "execution_count": 27,
   "metadata": {
    "colab": {
     "base_uri": "https://localhost:8080/",
     "height": 813
    },
    "id": "ZHv_ACj3bJ71",
    "outputId": "e1028358-3173-4a4f-cdf2-82b9e196a2ab"
   },
   "outputs": [
    {
     "name": "stdout",
     "output_type": "stream",
     "text": [
      "\u001b[2K   \u001b[90m━━━━━━━━━━━━━━━━━━━━━━━━━━━━━━━━━━━━━━━━\u001b[0m \u001b[32m18.1/18.1 MB\u001b[0m \u001b[31m30.0 MB/s\u001b[0m eta \u001b[36m0:00:00\u001b[0m\n",
      "\u001b[2K   \u001b[90m━━━━━━━━━━━━━━━━━━━━━━━━━━━━━━━━━━━━━━━━\u001b[0m \u001b[32m318.7/318.7 kB\u001b[0m \u001b[31m13.2 MB/s\u001b[0m eta \u001b[36m0:00:00\u001b[0m\n",
      "\u001b[2K   \u001b[90m━━━━━━━━━━━━━━━━━━━━━━━━━━━━━━━━━━━━━━━━\u001b[0m \u001b[32m4.5/4.5 MB\u001b[0m \u001b[31m28.8 MB/s\u001b[0m eta \u001b[36m0:00:00\u001b[0m\n",
      "\u001b[2K   \u001b[90m━━━━━━━━━━━━━━━━━━━━━━━━━━━━━━━━━━━━━━━━\u001b[0m \u001b[32m131.2/131.2 kB\u001b[0m \u001b[31m5.6 MB/s\u001b[0m eta \u001b[36m0:00:00\u001b[0m\n",
      "\u001b[?25h\u001b[31mERROR: pip's dependency resolver does not currently take into account all the packages that are installed. This behaviour is the source of the following dependency conflicts.\n",
      "google-adk 1.14.1 requires websockets<16.0.0,>=15.0.1, but you have websockets 12.0 which is incompatible.\n",
      "google-genai 1.38.0 requires websockets<15.1.0,>=13.0.0, but you have websockets 12.0 which is incompatible.\n",
      "dataproc-spark-connect 0.8.3 requires websockets>=14.0, but you have websockets 12.0 which is incompatible.\n",
      "yfinance 0.2.66 requires websockets>=13.0, but you have websockets 12.0 which is incompatible.\u001b[0m\u001b[31m\n",
      "\u001b[0m"
     ]
    },
    {
     "name": "stderr",
     "output_type": "stream",
     "text": [
      "/usr/local/lib/python3.12/dist-packages/gradio/analytics.py:106: UserWarning: IMPORTANT: You are using gradio version 4.44.0, however version 4.44.1 is available, please upgrade. \n",
      "--------\n",
      "  warnings.warn(\n"
     ]
    },
    {
     "name": "stdout",
     "output_type": "stream",
     "text": [
      "Colab notebook detected. To show errors in colab notebook, set debug=True in launch()\n",
      "Running on public URL: https://ddfd7230076bb63765.gradio.live\n",
      "\n",
      "This share link expires in 72 hours. For free permanent hosting and GPU upgrades, run `gradio deploy` from Terminal to deploy to Spaces (https://huggingface.co/spaces)\n"
     ]
    },
    {
     "data": {
      "text/html": [
       "<div><iframe src=\"https://ddfd7230076bb63765.gradio.live\" width=\"100%\" height=\"500\" allow=\"autoplay; camera; microphone; clipboard-read; clipboard-write;\" frameborder=\"0\" allowfullscreen></iframe></div>"
      ],
      "text/plain": [
       "<IPython.core.display.HTML object>"
      ]
     },
     "metadata": {},
     "output_type": "display_data"
    },
    {
     "data": {
      "text/plain": []
     },
     "execution_count": 27,
     "metadata": {},
     "output_type": "execute_result"
    }
   ],
   "source": [
    "# 15: Mini UI with Gradio\n",
    "!pip -q install gradio==4.44.0\n",
    "\n",
    "import gradio as gr\n",
    "\n",
    "def ui_generate(topic, n_qa, n_mcq, n_tf):\n",
    "    deck = generate_deck(topic, n_qa=int(n_qa), n_mcq=int(n_mcq), n_tf=int(n_tf))\n",
    "    df = pd.DataFrame(deck)\n",
    "    # quick export paths\n",
    "    prefix = re.sub(r\"[^a-z0-9]+\",\"_\", topic.lower()).strip(\"_\")\n",
    "    csv_path  = export_csv(deck,  f\"{prefix}.csv\")\n",
    "    tsv_path  = export_anki_tsv(deck, f\"{prefix}_anki.tsv\")\n",
    "    json_path = export_json(deck, f\"{prefix}.json\")\n",
    "    head = df.head(10).to_markdown(index=False)\n",
    "    report = f\"### Generated {len(deck)} cards for **{topic}**\\n\\n\" \\\n",
    "             f\"- CSV: `{csv_path}`\\n- TSV: `{tsv_path}`\\n- JSON: `{json_path}`\\n\\n\" \\\n",
    "             f\"**Preview (first 10):**\\n\\n{head}\"\n",
    "    return report\n",
    "\n",
    "with gr.Blocks(title=\"AI Flashcard Maker\") as demo:\n",
    "    gr.Markdown(\"# 📚 AI Flashcard Maker (No OpenAI Key)\")\n",
    "    topic = gr.Textbox(label=\"Topic\", value=\"Decision Trees\")\n",
    "    n_qa  = gr.Slider(0, 20, value=6, step=1, label=\"Q&A cards\")\n",
    "    n_mcq = gr.Slider(0, 20, value=5, step=1, label=\"MCQ cards\")\n",
    "    n_tf  = gr.Slider(0, 20, value=4, step=1, label=\"True/False cards\")\n",
    "    btn   = gr.Button(\"Generate Deck\")\n",
    "    out   = gr.Markdown()\n",
    "    btn.click(ui_generate, inputs=[topic, n_qa, n_mcq, n_tf], outputs=out)\n",
    "\n",
    "demo.launch(share=True)\n",
    "\n"
   ]
  },
  {
   "cell_type": "code",
   "execution_count": null,
   "metadata": {
    "id": "myH_P7dg5jBK"
   },
   "outputs": [],
   "source": []
  }
 ],
 "metadata": {
  "colab": {
   "provenance": []
  },
  "kernelspec": {
   "display_name": "Python 3",
   "name": "python3"
  },
  "language_info": {
   "name": "python"
  }
 },
 "nbformat": 4,
 "nbformat_minor": 0
}
